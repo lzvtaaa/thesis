{
  "nbformat": 4,
  "nbformat_minor": 0,
  "metadata": {
    "colab": {
      "provenance": []
    },
    "kernelspec": {
      "name": "python3",
      "display_name": "Python 3"
    },
    "language_info": {
      "name": "python"
    }
  },
  "cells": [
    {
      "cell_type": "code",
      "source": [
        "!pip install rdkit"
      ],
      "metadata": {
        "colab": {
          "base_uri": "https://localhost:8080/"
        },
        "id": "JlglJibFJn2N",
        "outputId": "8d4bdba7-0ac4-41f6-a99c-d24e39fa47e9"
      },
      "execution_count": null,
      "outputs": [
        {
          "output_type": "stream",
          "name": "stdout",
          "text": [
            "Collecting rdkit\n",
            "  Downloading rdkit-2023.9.6-cp310-cp310-manylinux_2_17_x86_64.manylinux2014_x86_64.whl (34.9 MB)\n",
            "\u001b[2K     \u001b[90m━━━━━━━━━━━━━━━━━━━━━━━━━━━━━━━━━━━━━━━━\u001b[0m \u001b[32m34.9/34.9 MB\u001b[0m \u001b[31m28.1 MB/s\u001b[0m eta \u001b[36m0:00:00\u001b[0m\n",
            "\u001b[?25hRequirement already satisfied: numpy in /usr/local/lib/python3.10/dist-packages (from rdkit) (1.25.2)\n",
            "Requirement already satisfied: Pillow in /usr/local/lib/python3.10/dist-packages (from rdkit) (9.4.0)\n",
            "Installing collected packages: rdkit\n",
            "Successfully installed rdkit-2023.9.6\n"
          ]
        }
      ]
    },
    {
      "cell_type": "code",
      "source": [
        "import numpy as np\n",
        "import pandas as pd\n",
        "import statistics\n",
        "\n",
        "import matplotlib.pyplot as plt\n",
        "%matplotlib inline\n",
        "import seaborn as sns"
      ],
      "metadata": {
        "id": "pDcQmNPwHscs"
      },
      "execution_count": null,
      "outputs": []
    },
    {
      "cell_type": "code",
      "source": [
        "from rdkit import Chem, RDLogger\n",
        "from rdkit.Chem import Descriptors, AllChem\n",
        "from rdkit.Chem import QED\n",
        "RDLogger.DisableLog('rdApp.*')"
      ],
      "metadata": {
        "id": "FwI8JVbCJklU"
      },
      "execution_count": null,
      "outputs": []
    },
    {
      "cell_type": "code",
      "source": [
        "from rdkit.Chem import RDConfig\n",
        "import os\n",
        "import sys\n",
        "sys.path.append(os.path.join(RDConfig.RDContribDir, 'SA_Score'))\n",
        "import sascorer"
      ],
      "metadata": {
        "id": "X24YxCygawbD"
      },
      "execution_count": null,
      "outputs": []
    },
    {
      "cell_type": "code",
      "source": [
        "def read_smiles(filename):\n",
        "  with open(filename) as f:\n",
        "    smiles = [s for s in f]\n",
        "  return smiles"
      ],
      "metadata": {
        "id": "wJyOWp44Hpl2"
      },
      "execution_count": null,
      "outputs": []
    },
    {
      "cell_type": "code",
      "source": [
        "smiles_1 = read_smiles('sampled_smiles_model_1.smi')\n",
        "smiles_2 = read_smiles('finetuned_smiles.smi')\n",
        "#smiles_3 = read_smiles('sampled_smiles_model_3.smi')"
      ],
      "metadata": {
        "id": "O8G0njZsJCXD"
      },
      "execution_count": null,
      "outputs": []
    },
    {
      "cell_type": "code",
      "source": [
        "def get_valid_smiles(smiles):\n",
        "  valid = []\n",
        "  for smi in smiles:\n",
        "    mol = Chem.MolFromSmiles(smi)\n",
        "    if mol is not None:\n",
        "      valid.append(mol)\n",
        "  print(f'Number of valid molecules generated: {len(valid)}')\n",
        "  print(f'% of valid molecules generated: {len(valid)/len(smiles):.2%}')\n",
        "  valid_smiles = [Chem.MolToSmiles(m, isomericSmiles=True, canonical=True, kekuleSmiles=True) for m in valid]\n",
        "  return valid_smiles"
      ],
      "metadata": {
        "id": "wQ7CwL74JxG7"
      },
      "execution_count": null,
      "outputs": []
    },
    {
      "cell_type": "code",
      "source": [
        "def get_unique_smiles(smiles):\n",
        "  print(f'Number of unique molecules: {len(set(smiles))}')\n",
        "  print(f'% of unique molecules: {len(set(smiles))/len(smiles):.2%}')\n",
        "  return set(smiles)"
      ],
      "metadata": {
        "id": "kE2B7W9_NnLQ"
      },
      "execution_count": null,
      "outputs": []
    },
    {
      "cell_type": "code",
      "source": [
        "def get_novel_smiles(smiles, filename):\n",
        "  novel_smiles = []\n",
        "  with open(filename) as f:\n",
        "    original_smiles = [s for s in f]\n",
        "  for smi in smiles:\n",
        "    if smi not in original_smiles:\n",
        "      novel_smiles.append(smi)\n",
        "  print(f'Number of novel molecules: {len(novel_smiles)}')\n",
        "  print(f'% of novel molecules: {len(novel_smiles)/len(smiles):.2%}')\n",
        "  return novel_smiles"
      ],
      "metadata": {
        "id": "UvKggsTRQBXA"
      },
      "execution_count": null,
      "outputs": []
    },
    {
      "cell_type": "markdown",
      "source": [
        "###Первая модель"
      ],
      "metadata": {
        "id": "zDLzt-WDiZri"
      }
    },
    {
      "cell_type": "code",
      "execution_count": null,
      "metadata": {
        "colab": {
          "base_uri": "https://localhost:8080/"
        },
        "id": "meb16JXoG73O",
        "outputId": "fcc11b35-0048-470a-8cf9-9d58654f26c6"
      },
      "outputs": [
        {
          "output_type": "stream",
          "name": "stdout",
          "text": [
            "Number of valid molecules generated: 790\n",
            "% of valid molecules generated: 79.00%\n"
          ]
        }
      ],
      "source": [
        "valid_1 = get_valid_smiles(smiles_1)"
      ]
    },
    {
      "cell_type": "code",
      "source": [
        "unique_1 = get_unique_smiles(valid_1)"
      ],
      "metadata": {
        "colab": {
          "base_uri": "https://localhost:8080/"
        },
        "id": "VRYYKEj9Ofoj",
        "outputId": "7294776b-3b07-49ff-bab2-9df3945d6753"
      },
      "execution_count": null,
      "outputs": [
        {
          "output_type": "stream",
          "name": "stdout",
          "text": [
            "Number of unique molecules: 789\n",
            "% of unique molecules: 99.87%\n"
          ]
        }
      ]
    },
    {
      "cell_type": "code",
      "source": [
        "novel_1 = get_novel_smiles(unique_1, 'prepared_smiles.smi')"
      ],
      "metadata": {
        "colab": {
          "base_uri": "https://localhost:8080/"
        },
        "id": "uIDjDM_wPZHv",
        "outputId": "0aa8e719-aed5-4d05-f096-20a62c1455a2"
      },
      "execution_count": null,
      "outputs": [
        {
          "output_type": "stream",
          "name": "stdout",
          "text": [
            "Number of novel molecules: 789\n",
            "% of novel molecules: 100.00%\n"
          ]
        }
      ]
    },
    {
      "cell_type": "code",
      "source": [
        "descriptor_1 = {'smiles': [s for s in novel_1],\n",
        "                'qed score': [Chem.QED.default(Chem.MolFromSmiles(s)) for s in novel_1],\n",
        "                'sa score': [sascorer.calculateScore(Chem.MolFromSmiles(s)) for s in novel_1]}"
      ],
      "metadata": {
        "id": "HjkY7XSoShRm"
      },
      "execution_count": null,
      "outputs": []
    },
    {
      "cell_type": "code",
      "source": [
        "df1 = pd.DataFrame(descriptor_1)"
      ],
      "metadata": {
        "id": "8usl7aaBpfri"
      },
      "execution_count": null,
      "outputs": []
    },
    {
      "cell_type": "code",
      "source": [
        "print(f'Mean QED: {statistics.mean(descriptor_1[\"qed score\"])}')\n",
        "print(f'Medan QED: {statistics.median(descriptor_1[\"qed score\"])}')\n",
        "print(f'Mode QED: {statistics.mode(descriptor_1[\"qed score\"])}\\n')\n",
        "print(f'Mean SA: {statistics.mean(descriptor_1[\"sa score\"])}')\n",
        "print(f'Median SA: {statistics.median(descriptor_1[\"sa score\"])}')\n",
        "print(f'Mode SA: {statistics.mode(descriptor_1[\"sa score\"])}')"
      ],
      "metadata": {
        "colab": {
          "base_uri": "https://localhost:8080/"
        },
        "id": "oUWyJuE1jx0t",
        "outputId": "aa8b547b-1c7e-4f49-a315-3b45bdedaa65"
      },
      "execution_count": null,
      "outputs": [
        {
          "output_type": "stream",
          "name": "stdout",
          "text": [
            "Mean QED: 0.7480096322098035\n",
            "Medan QED: 0.779911872468053\n",
            "Mode QED: 0.8603726793543887\n",
            "\n",
            "Mean SA: 2.811624402234712\n",
            "Median SA: 2.776988097080027\n",
            "Mode SA: 2.727604072383544\n"
          ]
        }
      ]
    },
    {
      "cell_type": "code",
      "source": [
        "sns.set()"
      ],
      "metadata": {
        "id": "gwOSVMJLgI3H"
      },
      "execution_count": null,
      "outputs": []
    },
    {
      "cell_type": "code",
      "source": [
        "sns.displot( x=descriptor_1['qed score'], kind = 'kde')\n",
        "plt.title('QED Score')\n",
        "plt.xlabel('value')\n",
        "plt.show()\n",
        "\n",
        "sns.displot(x=descriptor_1['sa score'], kind = 'kde')\n",
        "plt.title('SA Score')\n",
        "plt.xlabel('value')\n",
        "plt.show()"
      ],
      "metadata": {
        "colab": {
          "base_uri": "https://localhost:8080/",
          "height": 1000
        },
        "id": "6sJ1B39yZYgr",
        "outputId": "7b2e427a-d1f1-4f39-9a09-a8163ae20519"
      },
      "execution_count": null,
      "outputs": [
        {
          "output_type": "display_data",
          "data": {
            "text/plain": [
              "<Figure size 500x500 with 1 Axes>"
            ],
            "image/png": "[encoded data removed]"
          },
          "metadata": {}
        },
        {
          "output_type": "display_data",
          "data": {
            "text/plain": [
              "<Figure size 500x500 with 1 Axes>"
            ],
            "image/png": "[encoded data removed]"
          },
          "metadata": {}
        }
      ]
    },
    {
      "cell_type": "markdown",
      "source": [
        "###Вторая модель"
      ],
      "metadata": {
        "id": "EDQ5cjs6ie4Y"
      }
    },
    {
      "cell_type": "code",
      "source": [
        "valid_2 = get_valid_smiles(smiles_2)"
      ],
      "metadata": {
        "colab": {
          "base_uri": "https://localhost:8080/"
        },
        "id": "FWuw7eo_ZbVu",
        "outputId": "5ad403ea-5930-4a2a-ce70-e5df16cefc53"
      },
      "execution_count": null,
      "outputs": [
        {
          "output_type": "stream",
          "name": "stdout",
          "text": [
            "Number of valid molecules generated: 1000\n",
            "% of valid molecules generated: 100.00%\n"
          ]
        }
      ]
    },
    {
      "cell_type": "code",
      "source": [
        "unique_2 = get_unique_smiles(smiles_2)"
      ],
      "metadata": {
        "colab": {
          "base_uri": "https://localhost:8080/"
        },
        "id": "Pw8riJ4dizRv",
        "outputId": "8802638b-1997-4176-e9ee-39d7816d697f"
      },
      "execution_count": null,
      "outputs": [
        {
          "output_type": "stream",
          "name": "stdout",
          "text": [
            "Number of unique molecules: 970\n",
            "% of unique molecules: 97.00%\n"
          ]
        }
      ]
    },
    {
      "cell_type": "code",
      "source": [
        "novel_2 = get_novel_smiles(unique_2, 'zinc_smiles.smi')"
      ],
      "metadata": {
        "colab": {
          "base_uri": "https://localhost:8080/"
        },
        "id": "ce7L-wVNi3Yi",
        "outputId": "5d58cd72-2a9a-4c80-d467-80a26342acbf"
      },
      "execution_count": null,
      "outputs": [
        {
          "output_type": "stream",
          "name": "stdout",
          "text": [
            "Number of novel molecules: 968\n",
            "% of novel molecules: 99.79%\n"
          ]
        }
      ]
    },
    {
      "cell_type": "code",
      "source": [
        "novel_2_1 = get_novel_smiles(novel_2, 'inhibitors_for_finetune.smi')"
      ],
      "metadata": {
        "colab": {
          "base_uri": "https://localhost:8080/"
        },
        "id": "lwqQ81-ijN72",
        "outputId": "aa0beb22-91b1-4d91-95e3-7cb25c6dd80b"
      },
      "execution_count": null,
      "outputs": [
        {
          "output_type": "stream",
          "name": "stdout",
          "text": [
            "Number of novel molecules: 968\n",
            "% of novel molecules: 100.00%\n"
          ]
        }
      ]
    },
    {
      "cell_type": "code",
      "source": [
        "descriptor_2 = {'smiles': [s for s in novel_2],\n",
        "                'qed score': [Chem.QED.default(Chem.MolFromSmiles(s)) for s in novel_2],\n",
        "                'sa score': [sascorer.calculateScore(Chem.MolFromSmiles(s)) for s in novel_2]}"
      ],
      "metadata": {
        "id": "9R_TwErSjcJP"
      },
      "execution_count": null,
      "outputs": []
    },
    {
      "cell_type": "code",
      "source": [
        "df2 = pd.DataFrame(descriptor_2)"
      ],
      "metadata": {
        "id": "TY9q6oJPp-16"
      },
      "execution_count": null,
      "outputs": []
    },
    {
      "cell_type": "code",
      "source": [
        "print(f'Mean QED: {statistics.mean(descriptor_2[\"qed score\"])}')\n",
        "print(f'Medan QED: {statistics.median(descriptor_2[\"qed score\"])}')\n",
        "print(f'Mode QED: {statistics.mode(descriptor_2[\"qed score\"])}\\n')\n",
        "print(f'Mean SA: {statistics.mean(descriptor_2[\"sa score\"])}')\n",
        "print(f'Median SA: {statistics.median(descriptor_2[\"sa score\"])}')\n",
        "print(f'Mode SA: {statistics.mode(descriptor_2[\"sa score\"])}')"
      ],
      "metadata": {
        "colab": {
          "base_uri": "https://localhost:8080/"
        },
        "id": "sf9QPLskldD7",
        "outputId": "fc487196-9a9f-4e22-c210-1ac696d367e0"
      },
      "execution_count": null,
      "outputs": [
        {
          "output_type": "stream",
          "name": "stdout",
          "text": [
            "Mean QED: 0.6940429788845343\n",
            "Medan QED: 0.7251565176713628\n",
            "Mode QED: 0.7910798020035001\n",
            "\n",
            "Mean SA: 2.483463305850144\n",
            "Median SA: 2.4158050013903125\n",
            "Mode SA: 1.748908706838126\n"
          ]
        }
      ]
    },
    {
      "cell_type": "code",
      "source": [
        "sns.displot( x=descriptor_2['qed score'], kind = 'kde')\n",
        "plt.title('QED Score')\n",
        "plt.xlabel('value')\n",
        "plt.show()\n",
        "\n",
        "sns.displot(x=descriptor_2['sa score'], kind = 'kde')\n",
        "plt.title('SA Score')\n",
        "plt.xlabel('value')\n",
        "plt.show()"
      ],
      "metadata": {
        "colab": {
          "base_uri": "https://localhost:8080/",
          "height": 1000
        },
        "id": "X4jFc3P7jlL4",
        "outputId": "44113fda-c6b3-47a8-8e62-579406dc1d8a"
      },
      "execution_count": null,
      "outputs": [
        {
          "output_type": "display_data",
          "data": {
            "text/plain": [
              "<Figure size 500x500 with 1 Axes>"
            ],
            "image/png": "[encoded data removed]"
          },
          "metadata": {}
        },
        {
          "output_type": "display_data",
          "data": {
            "text/plain": [
              "<Figure size 500x500 with 1 Axes>"
            ],
            "image/png": "[encoded data removed]"
          },
          "metadata": {}
        }
      ]
    },
    {
      "cell_type": "markdown",
      "source": [
        "###Третья модель"
      ],
      "metadata": {
        "id": "RGEOAsKsljXZ"
      }
    },
    {
      "cell_type": "code",
      "source": [
        "valid_3 = get_valid_smiles(smiles_3)"
      ],
      "metadata": {
        "colab": {
          "base_uri": "https://localhost:8080/"
        },
        "id": "riIkk9sIlreQ",
        "outputId": "435ee1d2-3128-4c33-9c9f-1b4c4b1953fd"
      },
      "execution_count": null,
      "outputs": [
        {
          "output_type": "stream",
          "name": "stdout",
          "text": [
            "Number of valid molecules generated: 240\n",
            "% of valid molecules generated: 24.00%\n"
          ]
        }
      ]
    },
    {
      "cell_type": "code",
      "source": [
        "unique_3 = get_unique_smiles(valid_3)"
      ],
      "metadata": {
        "colab": {
          "base_uri": "https://localhost:8080/"
        },
        "id": "iK5_VZyNlx03",
        "outputId": "b38231df-ac6e-4ce1-b4da-2bb0b3bf65bb"
      },
      "execution_count": null,
      "outputs": [
        {
          "output_type": "stream",
          "name": "stdout",
          "text": [
            "Number of unique molecules: 239\n",
            "% of unique molecules: 99.58%\n"
          ]
        }
      ]
    },
    {
      "cell_type": "code",
      "source": [
        "novel_3 = get_novel_smiles(unique_3, 'inhibitors_for_finetune.smi')"
      ],
      "metadata": {
        "colab": {
          "base_uri": "https://localhost:8080/"
        },
        "id": "fvrkiEbNl3Vd",
        "outputId": "0ccc422e-e89b-4d69-c355-ddff8b972925"
      },
      "execution_count": null,
      "outputs": [
        {
          "output_type": "stream",
          "name": "stdout",
          "text": [
            "Number of novel molecules: 239\n",
            "% of novel molecules: 100.00%\n"
          ]
        }
      ]
    },
    {
      "cell_type": "code",
      "source": [
        "descriptor_3 = {'qed score': [Chem.QED.default(Chem.MolFromSmiles(s)) for s in novel_3],\n",
        "                'sa score': [sascorer.calculateScore(Chem.MolFromSmiles(s)) for s in novel_3]}"
      ],
      "metadata": {
        "id": "IAzKUEF3mD0c"
      },
      "execution_count": null,
      "outputs": []
    },
    {
      "cell_type": "code",
      "source": [
        "print(f'Mean QED: {statistics.mean(descriptor_3[\"qed score\"])}')\n",
        "print(f'Medan QED: {statistics.median(descriptor_3[\"qed score\"])}')\n",
        "print(f'Mode QED: {statistics.mode(descriptor_3[\"qed score\"])}\\n')\n",
        "print(f'Mean SA: {statistics.mean(descriptor_3[\"sa score\"])}')\n",
        "print(f'Median SA: {statistics.median(descriptor_3[\"sa score\"])}')\n",
        "print(f'Mode SA: {statistics.mode(descriptor_3[\"sa score\"])}')"
      ],
      "metadata": {
        "colab": {
          "base_uri": "https://localhost:8080/"
        },
        "id": "gwqlMTuLma11",
        "outputId": "8825a0d0-16bf-4890-d607-c4d0f2ef3067"
      },
      "execution_count": null,
      "outputs": [
        {
          "output_type": "stream",
          "name": "stdout",
          "text": [
            "Mean QED: 0.7308809082311083\n",
            "Medan QED: 0.7610541458222139\n",
            "Mode QED: 0.7910798020035003\n",
            "\n",
            "Mean SA: 2.801319251023395\n",
            "Median SA: 2.7099416779818846\n",
            "Mode SA: 1.748908706838126\n"
          ]
        }
      ]
    },
    {
      "cell_type": "code",
      "source": [
        "sns.displot( x=descriptor_3['qed score'], kind = 'kde')\n",
        "plt.title('QED Score')\n",
        "plt.xlabel('value')\n",
        "plt.show()\n",
        "\n",
        "sns.displot(x=descriptor_3['sa score'], kind = 'kde')\n",
        "plt.title('SA Score')\n",
        "plt.xlabel('value')\n",
        "plt.show()"
      ],
      "metadata": {
        "colab": {
          "base_uri": "https://localhost:8080/",
          "height": 1000
        },
        "id": "2j9ASvDRmgxj",
        "outputId": "99e70749-3076-4043-ff3d-550c3165cf12"
      },
      "execution_count": null,
      "outputs": [
        {
          "output_type": "display_data",
          "data": {
            "text/plain": [
              "<Figure size 500x500 with 1 Axes>"
            ],
            "image/png": "[encoded data removed]"
          },
          "metadata": {}
        },
        {
          "output_type": "display_data",
          "data": {
            "text/plain": [
              "<Figure size 500x500 with 1 Axes>"
            ],
            "image/png": "[encoded data removed]"
          },
          "metadata": {}
        }
      ]
    },
    {
      "cell_type": "markdown",
      "source": [
        "###Получение топ-10 соединений по QED и SA для первых двух моделей"
      ],
      "metadata": {
        "id": "c7r37ay5qGj3"
      }
    },
    {
      "cell_type": "code",
      "source": [
        "df1_sorted = df1.sort_values(['qed score', 'sa score'], ascending = [False, True])[:10]"
      ],
      "metadata": {
        "id": "yPQVsBm0qT3B"
      },
      "execution_count": null,
      "outputs": []
    },
    {
      "cell_type": "code",
      "source": [
        "df1_sorted"
      ],
      "metadata": {
        "colab": {
          "base_uri": "https://localhost:8080/",
          "height": 363
        },
        "id": "RYVxtyaArQOL",
        "outputId": "9ba58f0f-918e-412d-b7bb-f036c4228f5d"
      },
      "execution_count": null,
      "outputs": [
        {
          "output_type": "execute_result",
          "data": {
            "text/plain": [
              "                                                smiles  qed score  sa score\n",
              "132            C[C@H](N)C1=CN(CC2=C(F)C=C(Br)C=C2)N=C1   0.946626  2.741522\n",
              "25         CCC1=C(C2=CC=CC=C2)N=C(N)C(S(C)(=O)=O)=C1Cl   0.945619  2.457813\n",
              "351      CC1=CC(C)=C(CS(=O)(=O)C2=CC(F)=C(CO)C=C2)C=C1   0.944625  2.137572\n",
              "727  CC1=C(NC(=O)[C@@H](C)N(C)C(=O)C2=CC=CC=N2)C(C)...   0.944153  2.524173\n",
              "190   CC1=C(NC(=O)[C@@H](C)N(C)C(=O)C2=CC=CC=C2)C=CN1C   0.942440  2.765613\n",
              "113   CC1=CC=C(C2=C(O)N([C@@H](C)C(=O)N(C)C)C=C2C)C=C1   0.941903  2.937096\n",
              "612               CC1=CC=C(C(=O)NCC2=C(Cl)N(C)N=C2C)S1   0.941335  2.340649\n",
              "171      CC1=CC(C(=O)N(C)[C@H](C)C2=C(C)ON=C2C)=C(C)N1   0.935982  3.251428\n",
              "717      CC1=C([C@H](C)N)N=NN1C[C@H](C)C1=CC=C(Cl)C=C1   0.935032  3.266133\n",
              "687            CC1=C(C)C=C(SC2=C(C(=O)O)C(C)=NN2C)N=C1   0.933570  2.708259"
            ],
            "text/html": [
              "\n",
              "  <div id=\"df-9e92eacd-2f0a-48db-af7b-55d25e56eb69\" class=\"colab-df-container\">\n",
              "    <div>\n",
              "<style scoped>\n",
              "    .dataframe tbody tr th:only-of-type {\n",
              "        vertical-align: middle;\n",
              "    }\n",
              "\n",
              "    .dataframe tbody tr th {\n",
              "        vertical-align: top;\n",
              "    }\n",
              "\n",
              "    .dataframe thead th {\n",
              "        text-align: right;\n",
              "    }\n",
              "</style>\n",
              "<table border=\"1\" class=\"dataframe\">\n",
              "  <thead>\n",
              "    <tr style=\"text-align: right;\">\n",
              "      <th></th>\n",
              "      <th>smiles</th>\n",
              "      <th>qed score</th>\n",
              "      <th>sa score</th>\n",
              "    </tr>\n",
              "  </thead>\n",
              "  <tbody>\n",
              "    <tr>\n",
              "      <th>132</th>\n",
              "      <td>C[C@H](N)C1=CN(CC2=C(F)C=C(Br)C=C2)N=C1</td>\n",
              "      <td>0.946626</td>\n",
              "      <td>2.741522</td>\n",
              "    </tr>\n",
              "    <tr>\n",
              "      <th>25</th>\n",
              "      <td>CCC1=C(C2=CC=CC=C2)N=C(N)C(S(C)(=O)=O)=C1Cl</td>\n",
              "      <td>0.945619</td>\n",
              "      <td>2.457813</td>\n",
              "    </tr>\n",
              "    <tr>\n",
              "      <th>351</th>\n",
              "      <td>CC1=CC(C)=C(CS(=O)(=O)C2=CC(F)=C(CO)C=C2)C=C1</td>\n",
              "      <td>0.944625</td>\n",
              "      <td>2.137572</td>\n",
              "    </tr>\n",
              "    <tr>\n",
              "      <th>727</th>\n",
              "      <td>CC1=C(NC(=O)[C@@H](C)N(C)C(=O)C2=CC=CC=N2)C(C)...</td>\n",
              "      <td>0.944153</td>\n",
              "      <td>2.524173</td>\n",
              "    </tr>\n",
              "    <tr>\n",
              "      <th>190</th>\n",
              "      <td>CC1=C(NC(=O)[C@@H](C)N(C)C(=O)C2=CC=CC=C2)C=CN1C</td>\n",
              "      <td>0.942440</td>\n",
              "      <td>2.765613</td>\n",
              "    </tr>\n",
              "    <tr>\n",
              "      <th>113</th>\n",
              "      <td>CC1=CC=C(C2=C(O)N([C@@H](C)C(=O)N(C)C)C=C2C)C=C1</td>\n",
              "      <td>0.941903</td>\n",
              "      <td>2.937096</td>\n",
              "    </tr>\n",
              "    <tr>\n",
              "      <th>612</th>\n",
              "      <td>CC1=CC=C(C(=O)NCC2=C(Cl)N(C)N=C2C)S1</td>\n",
              "      <td>0.941335</td>\n",
              "      <td>2.340649</td>\n",
              "    </tr>\n",
              "    <tr>\n",
              "      <th>171</th>\n",
              "      <td>CC1=CC(C(=O)N(C)[C@H](C)C2=C(C)ON=C2C)=C(C)N1</td>\n",
              "      <td>0.935982</td>\n",
              "      <td>3.251428</td>\n",
              "    </tr>\n",
              "    <tr>\n",
              "      <th>717</th>\n",
              "      <td>CC1=C([C@H](C)N)N=NN1C[C@H](C)C1=CC=C(Cl)C=C1</td>\n",
              "      <td>0.935032</td>\n",
              "      <td>3.266133</td>\n",
              "    </tr>\n",
              "    <tr>\n",
              "      <th>687</th>\n",
              "      <td>CC1=C(C)C=C(SC2=C(C(=O)O)C(C)=NN2C)N=C1</td>\n",
              "      <td>0.933570</td>\n",
              "      <td>2.708259</td>\n",
              "    </tr>\n",
              "  </tbody>\n",
              "</table>\n",
              "</div>\n",
              "    <div class=\"colab-df-buttons\">\n",
              "\n",
              "  <div class=\"colab-df-container\">\n",
              "    <button class=\"colab-df-convert\" onclick=\"convertToInteractive('df-9e92eacd-2f0a-48db-af7b-55d25e56eb69')\"\n",
              "            title=\"Convert this dataframe to an interactive table.\"\n",
              "            style=\"display:none;\">\n",
              "\n",
              "  <svg xmlns=\"http://www.w3.org/2000/svg\" height=\"24px\" viewBox=\"0 -960 960 960\">\n",
              "    <path d=\"M120-120v-720h720v720H120Zm60-500h600v-160H180v160Zm220 220h160v-160H400v160Zm0 220h160v-160H400v160ZM180-400h160v-160H180v160Zm440 0h160v-160H620v160ZM180-180h160v-160H180v160Zm440 0h160v-160H620v160Z\"/>\n",
              "  </svg>\n",
              "    </button>\n",
              "\n",
              "  <style>\n",
              "    .colab-df-container {\n",
              "      display:flex;\n",
              "      gap: 12px;\n",
              "    }\n",
              "\n",
              "    .colab-df-convert {\n",
              "      background-color: #E8F0FE;\n",
              "      border: none;\n",
              "      border-radius: 50%;\n",
              "      cursor: pointer;\n",
              "      display: none;\n",
              "      fill: #1967D2;\n",
              "      height: 32px;\n",
              "      padding: 0 0 0 0;\n",
              "      width: 32px;\n",
              "    }\n",
              "\n",
              "    .colab-df-convert:hover {\n",
              "      background-color: #E2EBFA;\n",
              "      box-shadow: 0px 1px 2px rgba(60, 64, 67, 0.3), 0px 1px 3px 1px rgba(60, 64, 67, 0.15);\n",
              "      fill: #174EA6;\n",
              "    }\n",
              "\n",
              "    .colab-df-buttons div {\n",
              "      margin-bottom: 4px;\n",
              "    }\n",
              "\n",
              "    [theme=dark] .colab-df-convert {\n",
              "      background-color: #3B4455;\n",
              "      fill: #D2E3FC;\n",
              "    }\n",
              "\n",
              "    [theme=dark] .colab-df-convert:hover {\n",
              "      background-color: #434B5C;\n",
              "      box-shadow: 0px 1px 3px 1px rgba(0, 0, 0, 0.15);\n",
              "      filter: drop-shadow(0px 1px 2px rgba(0, 0, 0, 0.3));\n",
              "      fill: #FFFFFF;\n",
              "    }\n",
              "  </style>\n",
              "\n",
              "    <script>\n",
              "      const buttonEl =\n",
              "        document.querySelector('#df-9e92eacd-2f0a-48db-af7b-55d25e56eb69 button.colab-df-convert');\n",
              "      buttonEl.style.display =\n",
              "        google.colab.kernel.accessAllowed ? 'block' : 'none';\n",
              "\n",
              "      async function convertToInteractive(key) {\n",
              "        const element = document.querySelector('#df-9e92eacd-2f0a-48db-af7b-55d25e56eb69');\n",
              "        const dataTable =\n",
              "          await google.colab.kernel.invokeFunction('convertToInteractive',\n",
              "                                                    [key], {});\n",
              "        if (!dataTable) return;\n",
              "\n",
              "        const docLinkHtml = 'Like what you see? Visit the ' +\n",
              "          '<a target=\"_blank\" href=https://colab.research.google.com/notebooks/data_table.ipynb>data table notebook</a>'\n",
              "          + ' to learn more about interactive tables.';\n",
              "        element.innerHTML = '';\n",
              "        dataTable['output_type'] = 'display_data';\n",
              "        await google.colab.output.renderOutput(dataTable, element);\n",
              "        const docLink = document.createElement('div');\n",
              "        docLink.innerHTML = docLinkHtml;\n",
              "        element.appendChild(docLink);\n",
              "      }\n",
              "    </script>\n",
              "  </div>\n",
              "\n",
              "\n",
              "<div id=\"df-2ec66807-8228-4697-8765-49bb9f9db4a7\">\n",
              "  <button class=\"colab-df-quickchart\" onclick=\"quickchart('df-2ec66807-8228-4697-8765-49bb9f9db4a7')\"\n",
              "            title=\"Suggest charts\"\n",
              "            style=\"display:none;\">\n",
              "\n",
              "<svg xmlns=\"http://www.w3.org/2000/svg\" height=\"24px\"viewBox=\"0 0 24 24\"\n",
              "     width=\"24px\">\n",
              "    <g>\n",
              "        <path d=\"M19 3H5c-1.1 0-2 .9-2 2v14c0 1.1.9 2 2 2h14c1.1 0 2-.9 2-2V5c0-1.1-.9-2-2-2zM9 17H7v-7h2v7zm4 0h-2V7h2v10zm4 0h-2v-4h2v4z\"/>\n",
              "    </g>\n",
              "</svg>\n",
              "  </button>\n",
              "\n",
              "<style>\n",
              "  .colab-df-quickchart {\n",
              "      --bg-color: #E8F0FE;\n",
              "      --fill-color: #1967D2;\n",
              "      --hover-bg-color: #E2EBFA;\n",
              "      --hover-fill-color: #174EA6;\n",
              "      --disabled-fill-color: #AAA;\n",
              "      --disabled-bg-color: #DDD;\n",
              "  }\n",
              "\n",
              "  [theme=dark] .colab-df-quickchart {\n",
              "      --bg-color: #3B4455;\n",
              "      --fill-color: #D2E3FC;\n",
              "      --hover-bg-color: #434B5C;\n",
              "      --hover-fill-color: #FFFFFF;\n",
              "      --disabled-bg-color: #3B4455;\n",
              "      --disabled-fill-color: #666;\n",
              "  }\n",
              "\n",
              "  .colab-df-quickchart {\n",
              "    background-color: var(--bg-color);\n",
              "    border: none;\n",
              "    border-radius: 50%;\n",
              "    cursor: pointer;\n",
              "    display: none;\n",
              "    fill: var(--fill-color);\n",
              "    height: 32px;\n",
              "    padding: 0;\n",
              "    width: 32px;\n",
              "  }\n",
              "\n",
              "  .colab-df-quickchart:hover {\n",
              "    background-color: var(--hover-bg-color);\n",
              "    box-shadow: 0 1px 2px rgba(60, 64, 67, 0.3), 0 1px 3px 1px rgba(60, 64, 67, 0.15);\n",
              "    fill: var(--button-hover-fill-color);\n",
              "  }\n",
              "\n",
              "  .colab-df-quickchart-complete:disabled,\n",
              "  .colab-df-quickchart-complete:disabled:hover {\n",
              "    background-color: var(--disabled-bg-color);\n",
              "    fill: var(--disabled-fill-color);\n",
              "    box-shadow: none;\n",
              "  }\n",
              "\n",
              "  .colab-df-spinner {\n",
              "    border: 2px solid var(--fill-color);\n",
              "    border-color: transparent;\n",
              "    border-bottom-color: var(--fill-color);\n",
              "    animation:\n",
              "      spin 1s steps(1) infinite;\n",
              "  }\n",
              "\n",
              "  @keyframes spin {\n",
              "    0% {\n",
              "      border-color: transparent;\n",
              "      border-bottom-color: var(--fill-color);\n",
              "      border-left-color: var(--fill-color);\n",
              "    }\n",
              "    20% {\n",
              "      border-color: transparent;\n",
              "      border-left-color: var(--fill-color);\n",
              "      border-top-color: var(--fill-color);\n",
              "    }\n",
              "    30% {\n",
              "      border-color: transparent;\n",
              "      border-left-color: var(--fill-color);\n",
              "      border-top-color: var(--fill-color);\n",
              "      border-right-color: var(--fill-color);\n",
              "    }\n",
              "    40% {\n",
              "      border-color: transparent;\n",
              "      border-right-color: var(--fill-color);\n",
              "      border-top-color: var(--fill-color);\n",
              "    }\n",
              "    60% {\n",
              "      border-color: transparent;\n",
              "      border-right-color: var(--fill-color);\n",
              "    }\n",
              "    80% {\n",
              "      border-color: transparent;\n",
              "      border-right-color: var(--fill-color);\n",
              "      border-bottom-color: var(--fill-color);\n",
              "    }\n",
              "    90% {\n",
              "      border-color: transparent;\n",
              "      border-bottom-color: var(--fill-color);\n",
              "    }\n",
              "  }\n",
              "</style>\n",
              "\n",
              "  <script>\n",
              "    async function quickchart(key) {\n",
              "      const quickchartButtonEl =\n",
              "        document.querySelector('#' + key + ' button');\n",
              "      quickchartButtonEl.disabled = true;  // To prevent multiple clicks.\n",
              "      quickchartButtonEl.classList.add('colab-df-spinner');\n",
              "      try {\n",
              "        const charts = await google.colab.kernel.invokeFunction(\n",
              "            'suggestCharts', [key], {});\n",
              "      } catch (error) {\n",
              "        console.error('Error during call to suggestCharts:', error);\n",
              "      }\n",
              "      quickchartButtonEl.classList.remove('colab-df-spinner');\n",
              "      quickchartButtonEl.classList.add('colab-df-quickchart-complete');\n",
              "    }\n",
              "    (() => {\n",
              "      let quickchartButtonEl =\n",
              "        document.querySelector('#df-2ec66807-8228-4697-8765-49bb9f9db4a7 button');\n",
              "      quickchartButtonEl.style.display =\n",
              "        google.colab.kernel.accessAllowed ? 'block' : 'none';\n",
              "    })();\n",
              "  </script>\n",
              "</div>\n",
              "    </div>\n",
              "  </div>\n"
            ],
            "application/vnd.google.colaboratory.intrinsic+json": {
              "type": "dataframe",
              "variable_name": "df1_sorted",
              "summary": "{\n  \"name\": \"df1_sorted\",\n  \"rows\": 10,\n  \"fields\": [\n    {\n      \"column\": \"smiles\",\n      \"properties\": {\n        \"dtype\": \"string\",\n        \"num_unique_values\": 10,\n        \"samples\": [\n          \"CC1=C([C@H](C)N)N=NN1C[C@H](C)C1=CC=C(Cl)C=C1\",\n          \"CCC1=C(C2=CC=CC=C2)N=C(N)C(S(C)(=O)=O)=C1Cl\",\n          \"CC1=CC=C(C2=C(O)N([C@@H](C)C(=O)N(C)C)C=C2C)C=C1\"\n        ],\n        \"semantic_type\": \"\",\n        \"description\": \"\"\n      }\n    },\n    {\n      \"column\": \"qed score\",\n      \"properties\": {\n        \"dtype\": \"number\",\n        \"std\": 0.004653513384007565,\n        \"min\": 0.9335701983307987,\n        \"max\": 0.9466262021389552,\n        \"num_unique_values\": 10,\n        \"samples\": [\n          0.9350324810281581,\n          0.9456186600310698,\n          0.9419029421633268\n        ],\n        \"semantic_type\": \"\",\n        \"description\": \"\"\n      }\n    },\n    {\n      \"column\": \"sa score\",\n      \"properties\": {\n        \"dtype\": \"number\",\n        \"std\": 0.36821235744565006,\n        \"min\": 2.1375715556548407,\n        \"max\": 3.266133106864168,\n        \"num_unique_values\": 10,\n        \"samples\": [\n          3.266133106864168,\n          2.457813231288874,\n          2.937095867175703\n        ],\n        \"semantic_type\": \"\",\n        \"description\": \"\"\n      }\n    }\n  ]\n}"
            }
          },
          "metadata": {},
          "execution_count": 24
        }
      ]
    },
    {
      "cell_type": "code",
      "source": [
        "df2_sorted = df2.sort_values(['qed score', 'sa score'], ascending = [False, True])[:10]"
      ],
      "metadata": {
        "id": "a975QeBBrfzL"
      },
      "execution_count": null,
      "outputs": []
    },
    {
      "cell_type": "code",
      "source": [
        "df2_sorted"
      ],
      "metadata": {
        "colab": {
          "base_uri": "https://localhost:8080/",
          "height": 363
        },
        "id": "yy0ApUT1rod5",
        "outputId": "9683d492-eaf1-48ad-ab6f-b141974bec46"
      },
      "execution_count": null,
      "outputs": [
        {
          "output_type": "execute_result",
          "data": {
            "text/plain": [
              "                                               smiles  qed score  sa score\n",
              "254       CNC(=O)c1ccc(C)c(-c2ccccc2C(=O)N2CCCC2)c1\\n   0.942766  1.874883\n",
              "445              Cc1ccc2c(n1)NCCN2Cc1cccc(N(C)C)c1C\\n   0.942290  2.676694\n",
              "273             CCc1ccc2c(c1C)N(Cc1ccccc1)C(=O)C2CO\\n   0.940842  2.912549\n",
              "89   Cc1ccnc(N)c1C(=O)N1CCC[C@H]1C1=NC(c2ccccc2)=C1\\n   0.938700  3.095308\n",
              "259          CC(C)c1ncccc1NC(=O)c1cccc(N2CCCC2=O)n1\\n   0.937917  2.448737\n",
              "425            Cc1cc(CN(C)C(=O)c2cc(N)nc(C#N)c2)cs1\\n   0.937003  2.819731\n",
              "465         Cc1n[nH]c(C)c1C(=O)N(C)Cc1cccc(C2CC2)c1\\n   0.936557  2.298365\n",
              "957              CNCc1cccc(N(C)C(=O)c2cc(C)ccc2C)c1\\n   0.932892  1.998753\n",
              "161           Cc1cc(O)ccc1C(=O)N(C)[C@H](C)c1ccncc1\\n   0.932591  2.591012\n",
              "242       Cc1nc(C2CC2)cc(N(C)[C@H](C)c2cccc(O)c2)n1\\n   0.931670  3.000378"
            ],
            "text/html": [
              "\n",
              "  <div id=\"df-e66a8244-f91e-4977-843f-8b028c4d628a\" class=\"colab-df-container\">\n",
              "    <div>\n",
              "<style scoped>\n",
              "    .dataframe tbody tr th:only-of-type {\n",
              "        vertical-align: middle;\n",
              "    }\n",
              "\n",
              "    .dataframe tbody tr th {\n",
              "        vertical-align: top;\n",
              "    }\n",
              "\n",
              "    .dataframe thead th {\n",
              "        text-align: right;\n",
              "    }\n",
              "</style>\n",
              "<table border=\"1\" class=\"dataframe\">\n",
              "  <thead>\n",
              "    <tr style=\"text-align: right;\">\n",
              "      <th></th>\n",
              "      <th>smiles</th>\n",
              "      <th>qed score</th>\n",
              "      <th>sa score</th>\n",
              "    </tr>\n",
              "  </thead>\n",
              "  <tbody>\n",
              "    <tr>\n",
              "      <th>254</th>\n",
              "      <td>CNC(=O)c1ccc(C)c(-c2ccccc2C(=O)N2CCCC2)c1\\n</td>\n",
              "      <td>0.942766</td>\n",
              "      <td>1.874883</td>\n",
              "    </tr>\n",
              "    <tr>\n",
              "      <th>445</th>\n",
              "      <td>Cc1ccc2c(n1)NCCN2Cc1cccc(N(C)C)c1C\\n</td>\n",
              "      <td>0.942290</td>\n",
              "      <td>2.676694</td>\n",
              "    </tr>\n",
              "    <tr>\n",
              "      <th>273</th>\n",
              "      <td>CCc1ccc2c(c1C)N(Cc1ccccc1)C(=O)C2CO\\n</td>\n",
              "      <td>0.940842</td>\n",
              "      <td>2.912549</td>\n",
              "    </tr>\n",
              "    <tr>\n",
              "      <th>89</th>\n",
              "      <td>Cc1ccnc(N)c1C(=O)N1CCC[C@H]1C1=NC(c2ccccc2)=C1\\n</td>\n",
              "      <td>0.938700</td>\n",
              "      <td>3.095308</td>\n",
              "    </tr>\n",
              "    <tr>\n",
              "      <th>259</th>\n",
              "      <td>CC(C)c1ncccc1NC(=O)c1cccc(N2CCCC2=O)n1\\n</td>\n",
              "      <td>0.937917</td>\n",
              "      <td>2.448737</td>\n",
              "    </tr>\n",
              "    <tr>\n",
              "      <th>425</th>\n",
              "      <td>Cc1cc(CN(C)C(=O)c2cc(N)nc(C#N)c2)cs1\\n</td>\n",
              "      <td>0.937003</td>\n",
              "      <td>2.819731</td>\n",
              "    </tr>\n",
              "    <tr>\n",
              "      <th>465</th>\n",
              "      <td>Cc1n[nH]c(C)c1C(=O)N(C)Cc1cccc(C2CC2)c1\\n</td>\n",
              "      <td>0.936557</td>\n",
              "      <td>2.298365</td>\n",
              "    </tr>\n",
              "    <tr>\n",
              "      <th>957</th>\n",
              "      <td>CNCc1cccc(N(C)C(=O)c2cc(C)ccc2C)c1\\n</td>\n",
              "      <td>0.932892</td>\n",
              "      <td>1.998753</td>\n",
              "    </tr>\n",
              "    <tr>\n",
              "      <th>161</th>\n",
              "      <td>Cc1cc(O)ccc1C(=O)N(C)[C@H](C)c1ccncc1\\n</td>\n",
              "      <td>0.932591</td>\n",
              "      <td>2.591012</td>\n",
              "    </tr>\n",
              "    <tr>\n",
              "      <th>242</th>\n",
              "      <td>Cc1nc(C2CC2)cc(N(C)[C@H](C)c2cccc(O)c2)n1\\n</td>\n",
              "      <td>0.931670</td>\n",
              "      <td>3.000378</td>\n",
              "    </tr>\n",
              "  </tbody>\n",
              "</table>\n",
              "</div>\n",
              "    <div class=\"colab-df-buttons\">\n",
              "\n",
              "  <div class=\"colab-df-container\">\n",
              "    <button class=\"colab-df-convert\" onclick=\"convertToInteractive('df-e66a8244-f91e-4977-843f-8b028c4d628a')\"\n",
              "            title=\"Convert this dataframe to an interactive table.\"\n",
              "            style=\"display:none;\">\n",
              "\n",
              "  <svg xmlns=\"http://www.w3.org/2000/svg\" height=\"24px\" viewBox=\"0 -960 960 960\">\n",
              "    <path d=\"M120-120v-720h720v720H120Zm60-500h600v-160H180v160Zm220 220h160v-160H400v160Zm0 220h160v-160H400v160ZM180-400h160v-160H180v160Zm440 0h160v-160H620v160ZM180-180h160v-160H180v160Zm440 0h160v-160H620v160Z\"/>\n",
              "  </svg>\n",
              "    </button>\n",
              "\n",
              "  <style>\n",
              "    .colab-df-container {\n",
              "      display:flex;\n",
              "      gap: 12px;\n",
              "    }\n",
              "\n",
              "    .colab-df-convert {\n",
              "      background-color: #E8F0FE;\n",
              "      border: none;\n",
              "      border-radius: 50%;\n",
              "      cursor: pointer;\n",
              "      display: none;\n",
              "      fill: #1967D2;\n",
              "      height: 32px;\n",
              "      padding: 0 0 0 0;\n",
              "      width: 32px;\n",
              "    }\n",
              "\n",
              "    .colab-df-convert:hover {\n",
              "      background-color: #E2EBFA;\n",
              "      box-shadow: 0px 1px 2px rgba(60, 64, 67, 0.3), 0px 1px 3px 1px rgba(60, 64, 67, 0.15);\n",
              "      fill: #174EA6;\n",
              "    }\n",
              "\n",
              "    .colab-df-buttons div {\n",
              "      margin-bottom: 4px;\n",
              "    }\n",
              "\n",
              "    [theme=dark] .colab-df-convert {\n",
              "      background-color: #3B4455;\n",
              "      fill: #D2E3FC;\n",
              "    }\n",
              "\n",
              "    [theme=dark] .colab-df-convert:hover {\n",
              "      background-color: #434B5C;\n",
              "      box-shadow: 0px 1px 3px 1px rgba(0, 0, 0, 0.15);\n",
              "      filter: drop-shadow(0px 1px 2px rgba(0, 0, 0, 0.3));\n",
              "      fill: #FFFFFF;\n",
              "    }\n",
              "  </style>\n",
              "\n",
              "    <script>\n",
              "      const buttonEl =\n",
              "        document.querySelector('#df-e66a8244-f91e-4977-843f-8b028c4d628a button.colab-df-convert');\n",
              "      buttonEl.style.display =\n",
              "        google.colab.kernel.accessAllowed ? 'block' : 'none';\n",
              "\n",
              "      async function convertToInteractive(key) {\n",
              "        const element = document.querySelector('#df-e66a8244-f91e-4977-843f-8b028c4d628a');\n",
              "        const dataTable =\n",
              "          await google.colab.kernel.invokeFunction('convertToInteractive',\n",
              "                                                    [key], {});\n",
              "        if (!dataTable) return;\n",
              "\n",
              "        const docLinkHtml = 'Like what you see? Visit the ' +\n",
              "          '<a target=\"_blank\" href=https://colab.research.google.com/notebooks/data_table.ipynb>data table notebook</a>'\n",
              "          + ' to learn more about interactive tables.';\n",
              "        element.innerHTML = '';\n",
              "        dataTable['output_type'] = 'display_data';\n",
              "        await google.colab.output.renderOutput(dataTable, element);\n",
              "        const docLink = document.createElement('div');\n",
              "        docLink.innerHTML = docLinkHtml;\n",
              "        element.appendChild(docLink);\n",
              "      }\n",
              "    </script>\n",
              "  </div>\n",
              "\n",
              "\n",
              "<div id=\"df-f4be492c-4d65-4f45-968e-439226a9dac3\">\n",
              "  <button class=\"colab-df-quickchart\" onclick=\"quickchart('df-f4be492c-4d65-4f45-968e-439226a9dac3')\"\n",
              "            title=\"Suggest charts\"\n",
              "            style=\"display:none;\">\n",
              "\n",
              "<svg xmlns=\"http://www.w3.org/2000/svg\" height=\"24px\"viewBox=\"0 0 24 24\"\n",
              "     width=\"24px\">\n",
              "    <g>\n",
              "        <path d=\"M19 3H5c-1.1 0-2 .9-2 2v14c0 1.1.9 2 2 2h14c1.1 0 2-.9 2-2V5c0-1.1-.9-2-2-2zM9 17H7v-7h2v7zm4 0h-2V7h2v10zm4 0h-2v-4h2v4z\"/>\n",
              "    </g>\n",
              "</svg>\n",
              "  </button>\n",
              "\n",
              "<style>\n",
              "  .colab-df-quickchart {\n",
              "      --bg-color: #E8F0FE;\n",
              "      --fill-color: #1967D2;\n",
              "      --hover-bg-color: #E2EBFA;\n",
              "      --hover-fill-color: #174EA6;\n",
              "      --disabled-fill-color: #AAA;\n",
              "      --disabled-bg-color: #DDD;\n",
              "  }\n",
              "\n",
              "  [theme=dark] .colab-df-quickchart {\n",
              "      --bg-color: #3B4455;\n",
              "      --fill-color: #D2E3FC;\n",
              "      --hover-bg-color: #434B5C;\n",
              "      --hover-fill-color: #FFFFFF;\n",
              "      --disabled-bg-color: #3B4455;\n",
              "      --disabled-fill-color: #666;\n",
              "  }\n",
              "\n",
              "  .colab-df-quickchart {\n",
              "    background-color: var(--bg-color);\n",
              "    border: none;\n",
              "    border-radius: 50%;\n",
              "    cursor: pointer;\n",
              "    display: none;\n",
              "    fill: var(--fill-color);\n",
              "    height: 32px;\n",
              "    padding: 0;\n",
              "    width: 32px;\n",
              "  }\n",
              "\n",
              "  .colab-df-quickchart:hover {\n",
              "    background-color: var(--hover-bg-color);\n",
              "    box-shadow: 0 1px 2px rgba(60, 64, 67, 0.3), 0 1px 3px 1px rgba(60, 64, 67, 0.15);\n",
              "    fill: var(--button-hover-fill-color);\n",
              "  }\n",
              "\n",
              "  .colab-df-quickchart-complete:disabled,\n",
              "  .colab-df-quickchart-complete:disabled:hover {\n",
              "    background-color: var(--disabled-bg-color);\n",
              "    fill: var(--disabled-fill-color);\n",
              "    box-shadow: none;\n",
              "  }\n",
              "\n",
              "  .colab-df-spinner {\n",
              "    border: 2px solid var(--fill-color);\n",
              "    border-color: transparent;\n",
              "    border-bottom-color: var(--fill-color);\n",
              "    animation:\n",
              "      spin 1s steps(1) infinite;\n",
              "  }\n",
              "\n",
              "  @keyframes spin {\n",
              "    0% {\n",
              "      border-color: transparent;\n",
              "      border-bottom-color: var(--fill-color);\n",
              "      border-left-color: var(--fill-color);\n",
              "    }\n",
              "    20% {\n",
              "      border-color: transparent;\n",
              "      border-left-color: var(--fill-color);\n",
              "      border-top-color: var(--fill-color);\n",
              "    }\n",
              "    30% {\n",
              "      border-color: transparent;\n",
              "      border-left-color: var(--fill-color);\n",
              "      border-top-color: var(--fill-color);\n",
              "      border-right-color: var(--fill-color);\n",
              "    }\n",
              "    40% {\n",
              "      border-color: transparent;\n",
              "      border-right-color: var(--fill-color);\n",
              "      border-top-color: var(--fill-color);\n",
              "    }\n",
              "    60% {\n",
              "      border-color: transparent;\n",
              "      border-right-color: var(--fill-color);\n",
              "    }\n",
              "    80% {\n",
              "      border-color: transparent;\n",
              "      border-right-color: var(--fill-color);\n",
              "      border-bottom-color: var(--fill-color);\n",
              "    }\n",
              "    90% {\n",
              "      border-color: transparent;\n",
              "      border-bottom-color: var(--fill-color);\n",
              "    }\n",
              "  }\n",
              "</style>\n",
              "\n",
              "  <script>\n",
              "    async function quickchart(key) {\n",
              "      const quickchartButtonEl =\n",
              "        document.querySelector('#' + key + ' button');\n",
              "      quickchartButtonEl.disabled = true;  // To prevent multiple clicks.\n",
              "      quickchartButtonEl.classList.add('colab-df-spinner');\n",
              "      try {\n",
              "        const charts = await google.colab.kernel.invokeFunction(\n",
              "            'suggestCharts', [key], {});\n",
              "      } catch (error) {\n",
              "        console.error('Error during call to suggestCharts:', error);\n",
              "      }\n",
              "      quickchartButtonEl.classList.remove('colab-df-spinner');\n",
              "      quickchartButtonEl.classList.add('colab-df-quickchart-complete');\n",
              "    }\n",
              "    (() => {\n",
              "      let quickchartButtonEl =\n",
              "        document.querySelector('#df-f4be492c-4d65-4f45-968e-439226a9dac3 button');\n",
              "      quickchartButtonEl.style.display =\n",
              "        google.colab.kernel.accessAllowed ? 'block' : 'none';\n",
              "    })();\n",
              "  </script>\n",
              "</div>\n",
              "    </div>\n",
              "  </div>\n"
            ],
            "application/vnd.google.colaboratory.intrinsic+json": {
              "type": "dataframe",
              "variable_name": "df2_sorted",
              "summary": "{\n  \"name\": \"df2_sorted\",\n  \"rows\": 10,\n  \"fields\": [\n    {\n      \"column\": \"smiles\",\n      \"properties\": {\n        \"dtype\": \"string\",\n        \"num_unique_values\": 10,\n        \"samples\": [\n          \"Cc1cc(O)ccc1C(=O)N(C)[C@H](C)c1ccncc1\\n\",\n          \"Cc1ccc2c(n1)NCCN2Cc1cccc(N(C)C)c1C\\n\",\n          \"Cc1cc(CN(C)C(=O)c2cc(N)nc(C#N)c2)cs1\\n\"\n        ],\n        \"semantic_type\": \"\",\n        \"description\": \"\"\n      }\n    },\n    {\n      \"column\": \"qed score\",\n      \"properties\": {\n        \"dtype\": \"number\",\n        \"std\": 0.003994613052059334,\n        \"min\": 0.9316698505179027,\n        \"max\": 0.9427661323223674,\n        \"num_unique_values\": 10,\n        \"samples\": [\n          0.9325907728813144,\n          0.9422902807884431,\n          0.9370034478002826\n        ],\n        \"semantic_type\": \"\",\n        \"description\": \"\"\n      }\n    },\n    {\n      \"column\": \"sa score\",\n      \"properties\": {\n        \"dtype\": \"number\",\n        \"std\": 0.41508749254484234,\n        \"min\": 1.874882803990019,\n        \"max\": 3.095308369934571,\n        \"num_unique_values\": 10,\n        \"samples\": [\n          2.5910115935835236,\n          2.676694076789733,\n          2.819731180006821\n        ],\n        \"semantic_type\": \"\",\n        \"description\": \"\"\n      }\n    }\n  ]\n}"
            }
          },
          "metadata": {},
          "execution_count": 26
        }
      ]
    },
    {
      "cell_type": "code",
      "source": [
        "i=0\n",
        "for smi in df1_sorted.smiles:\n",
        "  i = i+1\n",
        "  mol2 = Chem.MolFromSmiles(smi)\n",
        "  mol3 = Chem.AddHs(mol2)\n",
        "  params = AllChem.ETKDGv3()\n",
        "  params.randomSeed = 0xf00d # optional random seed for reproduci\n",
        "  AllChem.EmbedMolecule(mol3, params)\n",
        "  with open(f'{i}_top_model_1.sdf', 'w') as f:\n",
        "    f.write(Chem.MolToMolBlock(mol3))"
      ],
      "metadata": {
        "id": "BjmyahdSMHXs"
      },
      "execution_count": null,
      "outputs": []
    },
    {
      "cell_type": "code",
      "source": [
        "i=0\n",
        "for smi in df2_sorted.smiles:\n",
        "  i = i+1\n",
        "  mol2 = Chem.MolFromSmiles(smi)\n",
        "  mol3 = Chem.AddHs(mol2)\n",
        "  params = AllChem.ETKDGv3()\n",
        "  params.randomSeed = 0xf00d # optional random seed for reproduci\n",
        "  AllChem.EmbedMolecule(mol3, params)\n",
        "  with open(f'{i}_top_model_2.sdf', 'w') as f:\n",
        "    f.write(Chem.MolToMolBlock(mol3))"
      ],
      "metadata": {
        "id": "XrpZDfLxOz1U"
      },
      "execution_count": null,
      "outputs": []
    },
    {
      "cell_type": "code",
      "source": [
        "with open('top_ten_1.smi', 'w') as f:\n",
        "  for smi in df1_sorted.smiles:\n",
        "    f.write(smi + '\\n')"
      ],
      "metadata": {
        "id": "WoLrCTcyrpTB"
      },
      "execution_count": null,
      "outputs": []
    },
    {
      "cell_type": "code",
      "source": [
        "with open('top_ten_2.smi', 'w') as f:\n",
        "  for smi in df2_sorted.smiles:\n",
        "    f.write(smi + '\\n')"
      ],
      "metadata": {
        "id": "5Pr8Cv1TJgfl"
      },
      "execution_count": null,
      "outputs": []
    }
  ]
}
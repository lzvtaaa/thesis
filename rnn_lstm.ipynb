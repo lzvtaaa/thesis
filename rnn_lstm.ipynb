{
  "nbformat": 4,
  "nbformat_minor": 0,
  "metadata": {
    "colab": {
      "provenance": [],
      "gpuType": "T4"
    },
    "kernelspec": {
      "name": "python3",
      "display_name": "Python 3"
    },
    "language_info": {
      "name": "python"
    },
    "accelerator": "GPU"
  },
  "cells": [
    {
      "cell_type": "code",
      "execution_count": null,
      "metadata": {
        "colab": {
          "base_uri": "https://localhost:8080/"
        },
        "id": "7hi20omOmki9",
        "outputId": "2b416bfc-d32c-4ced-dc9d-a4379efb4bc2"
      },
      "outputs": [
        {
          "output_type": "stream",
          "name": "stdout",
          "text": [
            "Requirement already satisfied: rdkit in /usr/local/lib/python3.10/dist-packages (2023.9.6)\n",
            "Requirement already satisfied: numpy in /usr/local/lib/python3.10/dist-packages (from rdkit) (1.25.2)\n",
            "Requirement already satisfied: Pillow in /usr/local/lib/python3.10/dist-packages (from rdkit) (9.4.0)\n"
          ]
        }
      ],
      "source": [
        "!pip install rdkit"
      ]
    },
    {
      "cell_type": "code",
      "source": [
        "!pip install bunch"
      ],
      "metadata": {
        "colab": {
          "base_uri": "https://localhost:8080/"
        },
        "id": "vaKhqepznK1U",
        "outputId": "db276625-d55c-41b4-bd02-54c8c6c72348"
      },
      "execution_count": null,
      "outputs": [
        {
          "output_type": "stream",
          "name": "stdout",
          "text": [
            "Requirement already satisfied: bunch in /usr/local/lib/python3.10/dist-packages (1.0.1)\n"
          ]
        }
      ]
    },
    {
      "cell_type": "code",
      "source": [
        "import numpy as np\n",
        "import pandas as pd\n",
        "from tqdm import tqdm\n",
        "from copy import copy\n",
        "\n",
        "import matplotlib.pyplot as plt\n",
        "%matplotlib inline\n",
        "\n",
        "import json\n",
        "from bunch import Bunch\n",
        "import time\n",
        "import os\n",
        "import glob\n",
        "from tensorflow.keras.utils import Sequence\n",
        "from tensorflow.keras import Sequential\n",
        "from tensorflow.keras.models import model_from_json\n",
        "from tensorflow.keras.layers import LSTM, Dense\n",
        "from tensorflow.keras.initializers import RandomNormal\n",
        "from glob import glob\n",
        "from tensorflow.keras.callbacks import ModelCheckpoint, TensorBoard\n",
        "\n",
        "from rdkit import Chem, RDLogger\n",
        "RDLogger.DisableLog('rdApp.*')"
      ],
      "metadata": {
        "id": "xfknT1dLnMv8"
      },
      "execution_count": null,
      "outputs": []
    },
    {
      "cell_type": "code",
      "source": [
        "import tensorflow as tf\n",
        "tf.test.gpu_device_name()"
      ],
      "metadata": {
        "colab": {
          "base_uri": "https://localhost:8080/",
          "height": 36
        },
        "id": "18KoXqllmwFr",
        "outputId": "87aa12ce-f071-4bc4-fc27-bcfaa8bc0f15"
      },
      "execution_count": null,
      "outputs": [
        {
          "output_type": "execute_result",
          "data": {
            "text/plain": [
              "'/device:GPU:0'"
            ],
            "application/vnd.google.colaboratory.intrinsic+json": {
              "type": "string"
            }
          },
          "metadata": {},
          "execution_count": 4
        }
      ]
    },
    {
      "cell_type": "code",
      "source": [
        "from tensorflow.python.client import device_lib\n",
        "device_lib.list_local_devices()"
      ],
      "metadata": {
        "colab": {
          "base_uri": "https://localhost:8080/"
        },
        "id": "XU8EtRRRm0FD",
        "outputId": "e6f716c3-b672-4f94-f828-814358ba5981"
      },
      "execution_count": null,
      "outputs": [
        {
          "output_type": "execute_result",
          "data": {
            "text/plain": [
              "[name: \"/device:CPU:0\"\n",
              " device_type: \"CPU\"\n",
              " memory_limit: 268435456\n",
              " locality {\n",
              " }\n",
              " incarnation: 10837673750858936153\n",
              " xla_global_id: -1,\n",
              " name: \"/device:GPU:0\"\n",
              " device_type: \"GPU\"\n",
              " memory_limit: 14626652160\n",
              " locality {\n",
              "   bus_id: 1\n",
              "   links {\n",
              "   }\n",
              " }\n",
              " incarnation: 8918792215293784948\n",
              " physical_device_desc: \"device: 0, name: Tesla T4, pci bus id: 0000:00:04.0, compute capability: 7.5\"\n",
              " xla_global_id: 416903419]"
            ]
          },
          "metadata": {},
          "execution_count": 5
        }
      ]
    },
    {
      "cell_type": "code",
      "source": [
        "class SmilesTokenizer(object):\n",
        "    def __init__(self, config):\n",
        "        self.config = config\n",
        "        if(self.config.finetuning_enable):\n",
        "          atoms = [\n",
        "              'B', 'Br', 'I', 'P', 'Se',\n",
        "              'N', 'Cl', 'F', 'H', 'C', 'O', 'S'\n",
        "          ]\n",
        "          special = [\n",
        "              'c', '(', ')', '1', '2','=', '[', ']', '@', 'n', '\\n', '3',\n",
        "              '+', '-', 's', 'o', '4', '/', '#', '\\\\', '5', '6', '7', '8'\n",
        "          ]\n",
        "        else:\n",
        "          atoms = [\n",
        "             'Br',\n",
        "             'N', 'Cl', 'F', 'H', 'C', 'O', 'S'\n",
        "          ]\n",
        "          special = [\n",
        "              '=', '(', ')','1', '@', '2', '[', ']', '3', '/', '#', '\\\\', '+', '4', '-'\n",
        "          ]\n",
        "        padding = ['G', 'A', 'E']\n",
        "\n",
        "        self.table = sorted(atoms, key=len, reverse=True) + special + padding\n",
        "        table_len = len(self.table)\n",
        "\n",
        "        self.table_2_chars = list(filter(lambda x: len(x) == 2, self.table))\n",
        "        self.table_1_chars = list(filter(lambda x: len(x) == 1, self.table))\n",
        "\n",
        "        self.one_hot_dict = {}\n",
        "        for i, symbol in enumerate(self.table):\n",
        "            vec = np.zeros(table_len, dtype=np.float32)\n",
        "            vec[i] = 1\n",
        "            self.one_hot_dict[symbol] = vec\n",
        "\n",
        "    def tokenize(self, smiles):\n",
        "        smiles = smiles + ' '\n",
        "        N = len(smiles)\n",
        "        token = []\n",
        "        i = 0\n",
        "        while (i < N):\n",
        "            c1 = smiles[i]\n",
        "            c2 = smiles[i:i + 2]\n",
        "\n",
        "            if c2 in self.table_2_chars:\n",
        "                token.append(c2)\n",
        "                i += 2\n",
        "                continue\n",
        "\n",
        "            if c1 in self.table_1_chars:\n",
        "                token.append(c1)\n",
        "                i += 1\n",
        "                continue\n",
        "\n",
        "            i += 1\n",
        "\n",
        "        return token\n",
        "\n",
        "    def one_hot_encode(self, tokenized_smiles):\n",
        "        result = np.array(\n",
        "            [self.one_hot_dict[symbol] for symbol in tokenized_smiles],\n",
        "            dtype=np.float32)\n",
        "        result = result.reshape(1, result.shape[0], result.shape[1])\n",
        "        return result"
      ],
      "metadata": {
        "id": "1C_mQN2JnUsX"
      },
      "execution_count": null,
      "outputs": []
    },
    {
      "cell_type": "code",
      "source": [
        "class DataLoader(Sequence):\n",
        "    def __init__(self, config, data_type='train'):\n",
        "        self.config = config\n",
        "        self.data_type = data_type\n",
        "        assert self.data_type in ['train', 'valid', 'finetune']\n",
        "\n",
        "        self.max_len = 0\n",
        "\n",
        "        if self.data_type == 'train':\n",
        "            self.smiles = self._load(self.config.data_filename)\n",
        "        elif self.data_type == 'finetune':\n",
        "            self.smiles = self._load(self.config.finetune_data_filename)\n",
        "        else:\n",
        "            pass\n",
        "\n",
        "        self.st = SmilesTokenizer(self.config)\n",
        "        self.one_hot_dict = self.st.one_hot_dict\n",
        "\n",
        "        self.tokenized_smiles = self._tokenize(self.smiles)\n",
        "\n",
        "        if self.data_type in ['train', 'valid']:\n",
        "            self.idx = np.arange(len(self.tokenized_smiles))\n",
        "            self.valid_size = int(\n",
        "                np.ceil(\n",
        "                    len(self.tokenized_smiles) * self.config.validation_split))\n",
        "            np.random.seed(self.config.seed)\n",
        "            np.random.shuffle(self.idx)\n",
        "\n",
        "    def _set_data(self):\n",
        "        if self.data_type == 'train':\n",
        "            ret = [\n",
        "                self.tokenized_smiles[self.idx[i]]\n",
        "                for i in self.idx[self.valid_size:]\n",
        "            ]\n",
        "        elif self.data_type == 'valid':\n",
        "            ret = [\n",
        "                self.tokenized_smiles[self.idx[i]]\n",
        "                for i in self.idx[:self.valid_size]\n",
        "            ]\n",
        "        else:\n",
        "            ret = self.tokenized_smiles\n",
        "        return ret\n",
        "\n",
        "    def _load(self, data_filename):\n",
        "        length = self.config.data_length\n",
        "        print('loading SMILES...')\n",
        "        with open(data_filename) as f:\n",
        "            smiles = [s.rstrip() for s in f]\n",
        "        if length != 0:\n",
        "            smiles = smiles[:length]\n",
        "        print('done.')\n",
        "        return smiles\n",
        "\n",
        "    def _tokenize(self, smiles):\n",
        "        assert isinstance(smiles, list)\n",
        "        print('tokenizing SMILES...')\n",
        "        tokenized_smiles = [self.st.tokenize(smi) for smi in tqdm(smiles)]\n",
        "\n",
        "        if self.data_type == 'train':\n",
        "            for tokenized_smi in tokenized_smiles:\n",
        "                length = len(tokenized_smi)\n",
        "                if self.max_len < length:\n",
        "                    self.max_len = length\n",
        "            self.config.train_smi_max_len = self.max_len\n",
        "        print('done.')\n",
        "        return tokenized_smiles\n",
        "\n",
        "    def __len__(self):\n",
        "        target_tokenized_smiles = self._set_data()\n",
        "        if self.data_type in ['train', 'valid']:\n",
        "            ret = int(\n",
        "                np.ceil(\n",
        "                    len(target_tokenized_smiles) /\n",
        "                    float(self.config.batch_size)))\n",
        "        else:\n",
        "            ret = int(\n",
        "                np.ceil(\n",
        "                    len(target_tokenized_smiles) /\n",
        "                    float(self.config.finetune_batch_size)))\n",
        "        return ret\n",
        "\n",
        "    def __getitem__(self, idx):\n",
        "        target_tokenized_smiles = self._set_data()\n",
        "        if self.data_type in ['train', 'valid']:\n",
        "            data = target_tokenized_smiles[idx *\n",
        "                                           self.config.batch_size:(idx + 1) *\n",
        "                                           self.config.batch_size]\n",
        "        else:\n",
        "            data = target_tokenized_smiles[idx *\n",
        "                                           self.config.finetune_batch_size:\n",
        "                                           (idx + 1) *\n",
        "                                           self.config.finetune_batch_size]\n",
        "        data = self._padding(data)\n",
        "\n",
        "        self.X, self.y = [], []\n",
        "        for tp_smi in data:\n",
        "            X = [self.one_hot_dict[symbol] for symbol in tp_smi[:-1]]\n",
        "            self.X.append(X)\n",
        "            y = [self.one_hot_dict[symbol] for symbol in tp_smi[1:]]\n",
        "            self.y.append(y)\n",
        "\n",
        "        self.X = np.array(self.X, dtype=np.float32)\n",
        "        self.y = np.array(self.y, dtype=np.float32)\n",
        "\n",
        "#        return self.X, self.y, [None]\n",
        "        return self.X, self.y\n",
        "\n",
        "    def _pad(self, tokenized_smi):\n",
        "        return ['G'] + tokenized_smi + ['E'] + [\n",
        "            'A' for _ in range(self.max_len - len(tokenized_smi))\n",
        "        ]\n",
        "\n",
        "    def _padding(self, data):\n",
        "        padded_smiles = [self._pad(t_smi) for t_smi in data]\n",
        "        return padded_smiles"
      ],
      "metadata": {
        "id": "onRO1u-lrLbB"
      },
      "execution_count": null,
      "outputs": []
    },
    {
      "cell_type": "code",
      "source": [
        "class Generator(object):\n",
        "    def __init__(self, modeler):\n",
        "        self.session = modeler.session\n",
        "        self.model = modeler.model\n",
        "        self.config = modeler.config\n",
        "        self.st = SmilesTokenizer(self.config)\n",
        "\n",
        "    def _generate(self, sequence):\n",
        "        while (sequence[-1] != 'E') and (len(self.st.tokenize(sequence)) <=\n",
        "                                         self.config.smiles_max_length):\n",
        "            x = self.st.one_hot_encode(self.st.tokenize(sequence))\n",
        "            preds = self.model.predict_on_batch(x)[0][-1]\n",
        "            next_idx = self.sample_with_temp(preds)\n",
        "            sequence += self.st.table[next_idx]\n",
        "\n",
        "        sequence = sequence[1:].rstrip('E')\n",
        "        return sequence\n",
        "\n",
        "    def sample_with_temp(self, preds):\n",
        "        streched = np.log(preds) / self.config.sampling_temp\n",
        "        streched_probs = np.exp(streched) / np.sum(np.exp(streched))\n",
        "        return np.random.choice(range(len(streched)), p=streched_probs)\n",
        "\n",
        "    def sample(self, num=1, start='G'):\n",
        "        sampled = []\n",
        "        if self.session == 'generate':\n",
        "            for _ in tqdm(range(num)):\n",
        "                sampled.append(self._generate(start))\n",
        "            return sampled\n",
        "        else:\n",
        "            # from rdkit import Chem, RDLogger\n",
        "            # RDLogger.DisableLog('rdApp.*')\n",
        "            while len(sampled) < num:\n",
        "                sequence = self._generate(start)\n",
        "                mol = Chem.MolFromSmiles(sequence)\n",
        "                if mol is not None:\n",
        "                    canon_smiles = Chem.MolToSmiles(mol)\n",
        "                    sampled.append(canon_smiles)\n",
        "            return sampled"
      ],
      "metadata": {
        "id": "RxneAc7wratC"
      },
      "execution_count": null,
      "outputs": []
    },
    {
      "cell_type": "code",
      "source": [
        "class Model(object):\n",
        "    def __init__(self, config, session='train'):\n",
        "        assert session in ['train', 'generate', 'finetune'], \\\n",
        "                'one of {train, generate, finetune}'\n",
        "\n",
        "        self.config = config\n",
        "        self.session = session\n",
        "        self.model = None\n",
        "\n",
        "        if self.session == 'train':\n",
        "            self.build_model()\n",
        "        else:\n",
        "            self.model = self.load(self.config.model_arch_filename,\n",
        "                                   self.config.model_weight_filename)\n",
        "\n",
        "    def build_model(self):\n",
        "        st = SmilesTokenizer(self.config)\n",
        "        n_table = len(st.table)\n",
        "        weight_init = RandomNormal(mean=0.0,\n",
        "                                   stddev=0.05,\n",
        "                                   seed=self.config.seed)\n",
        "\n",
        "        self.model = Sequential()\n",
        "        self.model.add(\n",
        "            LSTM(units=self.config.units,\n",
        "                 input_shape=(None, n_table),\n",
        "                 return_sequences=True,\n",
        "                 kernel_initializer=weight_init,\n",
        "                 dropout=0.3))\n",
        "        self.model.add(\n",
        "            LSTM(units=self.config.units,\n",
        "                 input_shape=(None, n_table),\n",
        "                 return_sequences=True,\n",
        "                 kernel_initializer=weight_init,\n",
        "                 dropout=0.5))\n",
        "        self.model.add(\n",
        "            Dense(units=n_table,\n",
        "                  activation='softmax',\n",
        "                  kernel_initializer=weight_init))\n",
        "\n",
        "        arch = self.model.to_json(indent=2)\n",
        "        self.config.model_arch_filename = 'model_arch.json'\n",
        "        with open(self.config.model_arch_filename, 'w') as f:\n",
        "            f.write(arch)\n",
        "\n",
        "        self.model.compile(optimizer=self.config.optimizer,\n",
        "                           loss='categorical_crossentropy')\n",
        "\n",
        "    def save(self, checkpoint_path):\n",
        "        assert self.model, 'You have to build the model first.'\n",
        "\n",
        "        print('Saving model ...')\n",
        "        self.model.save_weights(checkpoint_path)\n",
        "        print('model saved.')\n",
        "\n",
        "    def load(self, model_arch_file, checkpoint_file):\n",
        "        print(f'Loading model architecture from {model_arch_file} ...')\n",
        "        with open(model_arch_file) as f:\n",
        "            model = model_from_json(f.read())\n",
        "        print(f'Loading model checkpoint from {checkpoint_file} ...')\n",
        "        model.load_weights(checkpoint_file)\n",
        "        print('Loaded the Model.')\n",
        "        return model"
      ],
      "metadata": {
        "id": "og19mxawrjDQ"
      },
      "execution_count": null,
      "outputs": []
    },
    {
      "cell_type": "code",
      "source": [
        "class Trainer(object):\n",
        "    def __init__(self, modeler, train_data_loader, valid_data_loader):\n",
        "        self.model = modeler.model\n",
        "        self.config = modeler.config\n",
        "        self.train_data_loader = train_data_loader\n",
        "        self.valid_data_loader = valid_data_loader\n",
        "        self.callbacks = []\n",
        "        self.init_callbacks()\n",
        "\n",
        "    def init_callbacks(self):\n",
        "        self.callbacks.append(\n",
        "            ModelCheckpoint(\n",
        "                filepath= os.path.join(\n",
        "                    self.config.checkpoint_dir,\n",
        "                    '%s-{epoch:02d}-{val_loss:.2f}.hdf5' %\n",
        "                    self.config.exp_name),\n",
        "                monitor=self.config.checkpoint_monitor,\n",
        "                mode=self.config.checkpoint_mode,\n",
        "                save_best_only=self.config.checkpoint_save_best_only,\n",
        "                save_weights_only=self.config.checkpoint_save_weights_only,\n",
        "                verbose=self.config.checkpoint_verbose,\n",
        "            ))\n",
        "        self.callbacks.append(\n",
        "            TensorBoard(\n",
        "                log_dir=self.config.tensorboard_log_dir,\n",
        "                write_graph=self.config.tensorboard_write_graph,\n",
        "            ))\n",
        "\n",
        "    def train(self):\n",
        "#        history = self.model.fit_generator(\n",
        "        history = self.model.fit(\n",
        "            self.train_data_loader,\n",
        "            steps_per_epoch=self.train_data_loader.__len__(),\n",
        "            epochs=self.config.num_epochs,\n",
        "            verbose=self.config.verbose_training,\n",
        "            validation_data=self.valid_data_loader,\n",
        "            validation_steps=self.valid_data_loader.__len__(),\n",
        "            use_multiprocessing=True,\n",
        "            shuffle=True,\n",
        "            callbacks=self.callbacks)\n",
        "\n",
        "        last_weight_file = glob(\n",
        "            os.path.join(\n",
        "                f'{self.config.checkpoint_dir}',\n",
        "                f'{self.config.exp_name}-{self.config.num_epochs:02}*.hdf5')\n",
        "        )[0]\n",
        "\n",
        "        assert os.path.exists(last_weight_file)\n",
        "        self.config.model_weight_filename = last_weight_file\n",
        "\n",
        "        with open('config.json', 'w') as f:\n",
        "            f.write(self.config.toJSON(indent=2))\n",
        "        return history"
      ],
      "metadata": {
        "id": "JvSMTS67rm_X"
      },
      "execution_count": null,
      "outputs": []
    },
    {
      "cell_type": "code",
      "source": [
        "class Finetuner(Generator):\n",
        "    def __init__(self, modeler, finetune_data_loader):\n",
        "        self.session = modeler.session\n",
        "        self.model = modeler.model\n",
        "        self.config = modeler.config\n",
        "        self.finetune_data_loader = finetune_data_loader\n",
        "        self.st = SmilesTokenizer(self.config)\n",
        "\n",
        "    def finetune(self):\n",
        "        self.model.compile(optimizer=self.config.optimizer,\n",
        "                           loss='categorical_crossentropy')\n",
        "\n",
        "#        history = self.model.fit_generator(\n",
        "        history = self.model.fit(\n",
        "            self.finetune_data_loader,\n",
        "            steps_per_epoch=self.finetune_data_loader.__len__(),\n",
        "            epochs=self.config.finetune_epochs,\n",
        "            verbose=self.config.verbose_training,\n",
        "            use_multiprocessing=True,\n",
        "            shuffle=True)\n",
        "        return history"
      ],
      "metadata": {
        "id": "nMSwDqKarpc_"
      },
      "execution_count": null,
      "outputs": []
    },
    {
      "cell_type": "code",
      "source": [
        "def get_config_from_json(json_file):\n",
        "    with open(json_file, 'r') as config_file:\n",
        "        config_dict = json.load(config_file)\n",
        "    config = Bunch(config_dict)\n",
        "    return config\n",
        "\n",
        "\n",
        "def process_config(json_file):\n",
        "    config = get_config_from_json(json_file)\n",
        "    config.config_file = json_file\n",
        "    # config.exp_dir = os.path.join(\n",
        "    #     'experiments', time.strftime('%Y-%m-%d/', time.localtime()),\n",
        "    #     config.exp_name)\n",
        "    config.tensorboard_log_dir = 'logs/'\n",
        "    config.checkpoint_dir = 'checkpoints/'\n",
        "    return config"
      ],
      "metadata": {
        "id": "Bzm4Vdm6rwJt"
      },
      "execution_count": null,
      "outputs": []
    },
    {
      "cell_type": "code",
      "source": [
        "CONFIG_FILE_1 = 'base_config_1.json'\n",
        "config1 = process_config(CONFIG_FILE_1)"
      ],
      "metadata": {
        "id": "4x7Ck2DFrztH"
      },
      "execution_count": null,
      "outputs": []
    },
    {
      "cell_type": "code",
      "source": [
        "print('Create the data generator.')\n",
        "train_dl_1 = DataLoader(config1, data_type='train')\n",
        "valid_dl_1 = copy(train_dl_1)\n",
        "valid_dl_1.data_type = 'valid'\n",
        "\n",
        "print('Create the model.')\n",
        "modeler_1 = Model(config1, session='train')\n",
        "\n",
        "print('Create the trainer')\n",
        "trainer_1 = Trainer(modeler_1, train_dl_1, valid_dl_1)\n",
        "\n",
        "print('Start training the model.')\n",
        "history_1 = trainer_1.train()"
      ],
      "metadata": {
        "colab": {
          "base_uri": "https://localhost:8080/"
        },
        "id": "TN-hnE87r9Og",
        "outputId": "6b60909a-058e-4122-f749-58bea1cc4963"
      },
      "execution_count": null,
      "outputs": [
        {
          "output_type": "stream",
          "name": "stdout",
          "text": [
            "Create the data generator.\n",
            "loading SMILES...\n",
            "done.\n",
            "tokenizing SMILES...\n"
          ]
        },
        {
          "output_type": "stream",
          "name": "stderr",
          "text": [
            "100%|██████████| 61565/61565 [00:01<00:00, 43779.79it/s]\n"
          ]
        },
        {
          "output_type": "stream",
          "name": "stdout",
          "text": [
            "done.\n",
            "Create the model.\n",
            "Create the trainer\n",
            "Start training the model.\n",
            "Epoch 1/40\n"
          ]
        },
        {
          "output_type": "stream",
          "name": "stderr",
          "text": [
            "/usr/lib/python3.10/multiprocessing/popen_fork.py:66: RuntimeWarning: os.fork() was called. os.fork() is incompatible with multithreaded code, and JAX is multithreaded, so this will likely lead to a deadlock.\n",
            "  self.pid = os.fork()\n"
          ]
        },
        {
          "output_type": "stream",
          "name": "stdout",
          "text": [
            "193/193 [==============================] - ETA: 0s - loss: 1.4121\n",
            "Epoch 1: saving model to checkpoints/LSTM_Model_1-01-1.00.hdf5\n",
            "193/193 [==============================] - 47s 206ms/step - loss: 1.4121 - val_loss: 1.0029\n",
            "Epoch 2/40\n",
            "193/193 [==============================] - ETA: 0s - loss: 0.9435\n",
            "Epoch 2: saving model to checkpoints/LSTM_Model_1-02-0.74.hdf5\n",
            "193/193 [==============================] - 42s 215ms/step - loss: 0.9435 - val_loss: 0.7359\n",
            "Epoch 3/40\n",
            "193/193 [==============================] - ETA: 0s - loss: 0.8314\n",
            "Epoch 3: saving model to checkpoints/LSTM_Model_1-03-0.65.hdf5\n",
            "193/193 [==============================] - 37s 193ms/step - loss: 0.8314 - val_loss: 0.6474\n",
            "Epoch 4/40\n",
            "193/193 [==============================] - ETA: 0s - loss: 0.7726\n",
            "Epoch 4: saving model to checkpoints/LSTM_Model_1-04-0.59.hdf5\n",
            "193/193 [==============================] - 38s 197ms/step - loss: 0.7726 - val_loss: 0.5887\n",
            "Epoch 5/40\n",
            "193/193 [==============================] - ETA: 0s - loss: 0.7339\n",
            "Epoch 5: saving model to checkpoints/LSTM_Model_1-05-0.56.hdf5\n",
            "193/193 [==============================] - 39s 203ms/step - loss: 0.7339 - val_loss: 0.5594\n",
            "Epoch 6/40\n",
            "193/193 [==============================] - ETA: 0s - loss: 0.7067\n",
            "Epoch 6: saving model to checkpoints/LSTM_Model_1-06-0.53.hdf5\n",
            "193/193 [==============================] - 32s 162ms/step - loss: 0.7067 - val_loss: 0.5337\n",
            "Epoch 7/40\n",
            "193/193 [==============================] - ETA: 0s - loss: 0.6858\n",
            "Epoch 7: saving model to checkpoints/LSTM_Model_1-07-0.52.hdf5\n",
            "193/193 [==============================] - 37s 192ms/step - loss: 0.6858 - val_loss: 0.5161\n",
            "Epoch 8/40\n",
            "193/193 [==============================] - ETA: 0s - loss: 0.6705\n",
            "Epoch 8: saving model to checkpoints/LSTM_Model_1-08-0.50.hdf5\n",
            "193/193 [==============================] - 40s 205ms/step - loss: 0.6705 - val_loss: 0.5008\n",
            "Epoch 9/40\n",
            "193/193 [==============================] - ETA: 0s - loss: 0.6567\n",
            "Epoch 9: saving model to checkpoints/LSTM_Model_1-09-0.49.hdf5\n",
            "193/193 [==============================] - 40s 207ms/step - loss: 0.6567 - val_loss: 0.4907\n",
            "Epoch 10/40\n",
            "193/193 [==============================] - ETA: 0s - loss: 0.6463\n",
            "Epoch 10: saving model to checkpoints/LSTM_Model_1-10-0.48.hdf5\n",
            "193/193 [==============================] - 37s 192ms/step - loss: 0.6463 - val_loss: 0.4774\n",
            "Epoch 11/40\n",
            "193/193 [==============================] - ETA: 0s - loss: 0.6363\n",
            "Epoch 11: saving model to checkpoints/LSTM_Model_1-11-0.47.hdf5\n",
            "193/193 [==============================] - 37s 191ms/step - loss: 0.6363 - val_loss: 0.4695\n",
            "Epoch 12/40\n",
            "193/193 [==============================] - ETA: 0s - loss: 0.6278\n",
            "Epoch 12: saving model to checkpoints/LSTM_Model_1-12-0.46.hdf5\n",
            "193/193 [==============================] - 38s 196ms/step - loss: 0.6278 - val_loss: 0.4614\n",
            "Epoch 13/40\n",
            "193/193 [==============================] - ETA: 0s - loss: 0.6197\n",
            "Epoch 13: saving model to checkpoints/LSTM_Model_1-13-0.46.hdf5\n",
            "193/193 [==============================] - 38s 194ms/step - loss: 0.6197 - val_loss: 0.4556\n",
            "Epoch 14/40\n",
            "193/193 [==============================] - ETA: 0s - loss: 0.6126\n",
            "Epoch 14: saving model to checkpoints/LSTM_Model_1-14-0.45.hdf5\n",
            "193/193 [==============================] - 40s 206ms/step - loss: 0.6126 - val_loss: 0.4470\n",
            "Epoch 15/40\n",
            "193/193 [==============================] - ETA: 0s - loss: 0.6057\n",
            "Epoch 15: saving model to checkpoints/LSTM_Model_1-15-0.44.hdf5\n",
            "193/193 [==============================] - 38s 197ms/step - loss: 0.6057 - val_loss: 0.4437\n",
            "Epoch 16/40\n",
            "193/193 [==============================] - ETA: 0s - loss: 0.6000\n",
            "Epoch 16: saving model to checkpoints/LSTM_Model_1-16-0.44.hdf5\n",
            "193/193 [==============================] - 38s 195ms/step - loss: 0.6000 - val_loss: 0.4386\n",
            "Epoch 17/40\n",
            "193/193 [==============================] - ETA: 0s - loss: 0.5957\n",
            "Epoch 17: saving model to checkpoints/LSTM_Model_1-17-0.44.hdf5\n",
            "193/193 [==============================] - 41s 209ms/step - loss: 0.5957 - val_loss: 0.4351\n",
            "Epoch 18/40\n",
            "193/193 [==============================] - ETA: 0s - loss: 0.5898\n",
            "Epoch 18: saving model to checkpoints/LSTM_Model_1-18-0.43.hdf5\n",
            "193/193 [==============================] - 38s 197ms/step - loss: 0.5898 - val_loss: 0.4295\n",
            "Epoch 19/40\n",
            "193/193 [==============================] - ETA: 0s - loss: 0.5867\n",
            "Epoch 19: saving model to checkpoints/LSTM_Model_1-19-0.43.hdf5\n",
            "193/193 [==============================] - 39s 202ms/step - loss: 0.5867 - val_loss: 0.4274\n",
            "Epoch 20/40\n",
            "193/193 [==============================] - ETA: 0s - loss: 0.5818\n",
            "Epoch 20: saving model to checkpoints/LSTM_Model_1-20-0.42.hdf5\n",
            "193/193 [==============================] - 41s 210ms/step - loss: 0.5818 - val_loss: 0.4211\n",
            "Epoch 21/40\n",
            "193/193 [==============================] - ETA: 0s - loss: 0.5773\n",
            "Epoch 21: saving model to checkpoints/LSTM_Model_1-21-0.42.hdf5\n",
            "193/193 [==============================] - 40s 208ms/step - loss: 0.5773 - val_loss: 0.4192\n",
            "Epoch 22/40\n",
            "193/193 [==============================] - ETA: 0s - loss: 0.5751\n",
            "Epoch 22: saving model to checkpoints/LSTM_Model_1-22-0.42.hdf5\n",
            "193/193 [==============================] - 39s 202ms/step - loss: 0.5751 - val_loss: 0.4159\n",
            "Epoch 23/40\n",
            "193/193 [==============================] - ETA: 0s - loss: 0.5707\n",
            "Epoch 23: saving model to checkpoints/LSTM_Model_1-23-0.41.hdf5\n",
            "193/193 [==============================] - 40s 207ms/step - loss: 0.5707 - val_loss: 0.4131\n",
            "Epoch 24/40\n",
            "193/193 [==============================] - ETA: 0s - loss: 0.5685\n",
            "Epoch 24: saving model to checkpoints/LSTM_Model_1-24-0.41.hdf5\n",
            "193/193 [==============================] - 36s 185ms/step - loss: 0.5685 - val_loss: 0.4098\n",
            "Epoch 25/40\n",
            "193/193 [==============================] - ETA: 0s - loss: 0.5650\n",
            "Epoch 25: saving model to checkpoints/LSTM_Model_1-25-0.41.hdf5\n",
            "193/193 [==============================] - 39s 204ms/step - loss: 0.5650 - val_loss: 0.4071\n",
            "Epoch 26/40\n",
            "193/193 [==============================] - ETA: 0s - loss: 0.5619\n",
            "Epoch 26: saving model to checkpoints/LSTM_Model_1-26-0.40.hdf5\n",
            "193/193 [==============================] - 33s 170ms/step - loss: 0.5619 - val_loss: 0.4050\n",
            "Epoch 27/40\n",
            "193/193 [==============================] - ETA: 0s - loss: 0.5585\n",
            "Epoch 27: saving model to checkpoints/LSTM_Model_1-27-0.40.hdf5\n",
            "193/193 [==============================] - 39s 201ms/step - loss: 0.5585 - val_loss: 0.4023\n",
            "Epoch 28/40\n",
            "193/193 [==============================] - ETA: 0s - loss: 0.5568\n",
            "Epoch 28: saving model to checkpoints/LSTM_Model_1-28-0.40.hdf5\n",
            "193/193 [==============================] - 39s 200ms/step - loss: 0.5568 - val_loss: 0.4003\n",
            "Epoch 29/40\n",
            "193/193 [==============================] - ETA: 0s - loss: 0.5540\n",
            "Epoch 29: saving model to checkpoints/LSTM_Model_1-29-0.40.hdf5\n",
            "193/193 [==============================] - 38s 195ms/step - loss: 0.5540 - val_loss: 0.3977\n",
            "Epoch 30/40\n",
            "193/193 [==============================] - ETA: 0s - loss: 0.5519\n",
            "Epoch 30: saving model to checkpoints/LSTM_Model_1-30-0.40.hdf5\n",
            "193/193 [==============================] - 41s 209ms/step - loss: 0.5519 - val_loss: 0.3957\n",
            "Epoch 31/40\n",
            "193/193 [==============================] - ETA: 0s - loss: 0.5494\n",
            "Epoch 31: saving model to checkpoints/LSTM_Model_1-31-0.39.hdf5\n",
            "193/193 [==============================] - 40s 206ms/step - loss: 0.5494 - val_loss: 0.3949\n",
            "Epoch 32/40\n",
            "193/193 [==============================] - ETA: 0s - loss: 0.5475\n",
            "Epoch 32: saving model to checkpoints/LSTM_Model_1-32-0.39.hdf5\n",
            "193/193 [==============================] - 38s 194ms/step - loss: 0.5475 - val_loss: 0.3926\n",
            "Epoch 33/40\n",
            "193/193 [==============================] - ETA: 0s - loss: 0.5452\n",
            "Epoch 33: saving model to checkpoints/LSTM_Model_1-33-0.39.hdf5\n",
            "193/193 [==============================] - 40s 208ms/step - loss: 0.5452 - val_loss: 0.3903\n",
            "Epoch 34/40\n",
            "193/193 [==============================] - ETA: 0s - loss: 0.5436\n",
            "Epoch 34: saving model to checkpoints/LSTM_Model_1-34-0.39.hdf5\n",
            "193/193 [==============================] - 40s 205ms/step - loss: 0.5436 - val_loss: 0.3915\n",
            "Epoch 35/40\n",
            "193/193 [==============================] - ETA: 0s - loss: 0.5413\n",
            "Epoch 35: saving model to checkpoints/LSTM_Model_1-35-0.39.hdf5\n",
            "193/193 [==============================] - 39s 201ms/step - loss: 0.5413 - val_loss: 0.3883\n",
            "Epoch 36/40\n",
            "193/193 [==============================] - ETA: 0s - loss: 0.5391\n",
            "Epoch 36: saving model to checkpoints/LSTM_Model_1-36-0.39.hdf5\n",
            "193/193 [==============================] - 40s 205ms/step - loss: 0.5391 - val_loss: 0.3866\n",
            "Epoch 37/40\n",
            "193/193 [==============================] - ETA: 0s - loss: 0.5378\n",
            "Epoch 37: saving model to checkpoints/LSTM_Model_1-37-0.38.hdf5\n",
            "193/193 [==============================] - 40s 206ms/step - loss: 0.5378 - val_loss: 0.3848\n",
            "Epoch 38/40\n",
            "193/193 [==============================] - ETA: 0s - loss: 0.5368\n",
            "Epoch 38: saving model to checkpoints/LSTM_Model_1-38-0.38.hdf5\n",
            "193/193 [==============================] - 40s 206ms/step - loss: 0.5368 - val_loss: 0.3839\n",
            "Epoch 39/40\n",
            "193/193 [==============================] - ETA: 0s - loss: 0.5356\n",
            "Epoch 39: saving model to checkpoints/LSTM_Model_1-39-0.38.hdf5\n",
            "193/193 [==============================] - 37s 191ms/step - loss: 0.5356 - val_loss: 0.3815\n",
            "Epoch 40/40\n",
            "193/193 [==============================] - ETA: 0s - loss: 0.5340\n",
            "Epoch 40: saving model to checkpoints/LSTM_Model_1-40-0.38.hdf5\n",
            "193/193 [==============================] - 41s 211ms/step - loss: 0.5340 - val_loss: 0.3809\n"
          ]
        }
      ]
    },
    {
      "cell_type": "code",
      "source": [
        "plt.plot(history_1.history['loss'])\n",
        "plt.plot(history_1.history['val_loss'])\n",
        "plt.title('Loss')\n",
        "plt.ylabel('Loss')\n",
        "plt.xlabel('epoch')\n",
        "plt.legend(['train', 'val'], loc='upper left')\n",
        "plt.show()"
      ],
      "metadata": {
        "colab": {
          "base_uri": "https://localhost:8080/",
          "height": 472
        },
        "id": "4-1QN1cXr_nj",
        "outputId": "521915ad-5764-46d0-f0fa-7aca2d0243e5"
      },
      "execution_count": null,
      "outputs": [
        {
          "output_type": "display_data",
          "data": {
            "text/plain": [
              "<Figure size 640x480 with 1 Axes>"
            ],
            "image/png": "[encoded data removed]"
          },
          "metadata": {}
        }
      ]
    },
    {
      "cell_type": "code",
      "source": [
        "CONFIG_FILE_GENERATION = 'config.json'\n",
        "config_gen = process_config(CONFIG_FILE_GENERATION)"
      ],
      "metadata": {
        "id": "HBpjGwmH0MVm"
      },
      "execution_count": null,
      "outputs": []
    },
    {
      "cell_type": "code",
      "source": [
        "modeler_generation_1 = Model(config_gen, session='generate')"
      ],
      "metadata": {
        "colab": {
          "base_uri": "https://localhost:8080/"
        },
        "id": "64gjw88Essev",
        "outputId": "214a789e-85b1-41a1-e3f0-b375288dda8d"
      },
      "execution_count": null,
      "outputs": [
        {
          "output_type": "stream",
          "name": "stdout",
          "text": [
            "Loading model architecture from model_arch.json ...\n",
            "Loading model checkpoint from checkpoints/LSTM_Model_1-40-0.38.hdf5 ...\n",
            "Loaded the Model.\n"
          ]
        }
      ]
    },
    {
      "cell_type": "code",
      "source": [
        "generator_1 = Generator(modeler_generation_1)\n",
        "sampled_smiles_1 = generator_1.sample(num=1000)"
      ],
      "metadata": {
        "colab": {
          "base_uri": "https://localhost:8080/"
        },
        "id": "3rVx8Rncs6ww",
        "outputId": "f883a118-fca7-4d59-9259-99e6059b187f"
      },
      "execution_count": null,
      "outputs": [
        {
          "output_type": "stream",
          "name": "stderr",
          "text": [
            "100%|██████████| 1000/1000 [05:07<00:00,  3.25it/s]\n"
          ]
        }
      ]
    },
    {
      "cell_type": "code",
      "source": [
        "with open('sampled_smiles_model_1.smi', 'w') as f:\n",
        "  for smi in sampled_smiles_1:\n",
        "    f.write(smi + '\\n')"
      ],
      "metadata": {
        "id": "Q_O4-dk6tKgn"
      },
      "execution_count": null,
      "outputs": []
    },
    {
      "cell_type": "code",
      "source": [
        "valid_mols = []\n",
        "for smi in sampled_smiles_1:\n",
        "    mol = Chem.MolFromSmiles(smi)\n",
        "    if mol is not None:\n",
        "        valid_mols.append(mol)\n",
        "# low validity\n",
        "print(f'{len(valid_mols) / 1000:.2%}')"
      ],
      "metadata": {
        "colab": {
          "base_uri": "https://localhost:8080/"
        },
        "id": "hIuW3figs_sR",
        "outputId": "ca86c263-4dcd-439b-ee7d-07b87b249b2d"
      },
      "execution_count": null,
      "outputs": [
        {
          "output_type": "stream",
          "name": "stdout",
          "text": [
            "79.00%\n"
          ]
        }
      ]
    },
    {
      "cell_type": "code",
      "source": [
        "valid_smiles = [Chem.MolToSmiles(mol) for mol in valid_mols]\n",
        "# high uniqueness\n",
        "print(f'{len(set(valid_smiles)) / len(valid_smiles):.2%}')"
      ],
      "metadata": {
        "colab": {
          "base_uri": "https://localhost:8080/"
        },
        "id": "6hzEAkqJtDTo",
        "outputId": "a3c5ab00-15c0-4110-e956-dd529c2e7586"
      },
      "execution_count": null,
      "outputs": [
        {
          "output_type": "stream",
          "name": "stdout",
          "text": [
            "99.87%\n"
          ]
        }
      ]
    },
    {
      "cell_type": "markdown",
      "source": [
        "###Обучение с последующим finetuning"
      ],
      "metadata": {
        "id": "MoXMJwPwtoTg"
      }
    },
    {
      "cell_type": "code",
      "source": [
        "CONFIG_FILE_2 = 'base_config_2.json'\n",
        "config2 = process_config(CONFIG_FILE_2)"
      ],
      "metadata": {
        "id": "p-f9uK2EtxkY"
      },
      "execution_count": null,
      "outputs": []
    },
    {
      "cell_type": "code",
      "source": [
        "print('Create the data generator.')\n",
        "train_dl_2 = DataLoader(config2, data_type='train')\n",
        "valid_dl_2 = copy(train_dl_2)\n",
        "valid_dl_2.data_type = 'valid'\n",
        "\n",
        "print('Create the model.')\n",
        "modeler_2 = Model(config2, session='train')\n",
        "\n",
        "print('Create the trainer')\n",
        "trainer_2 = Trainer(modeler_2, train_dl_2, valid_dl_2)\n",
        "\n",
        "print('Start training the model.')\n",
        "history_2 = trainer_2.train()"
      ],
      "metadata": {
        "colab": {
          "base_uri": "https://localhost:8080/"
        },
        "id": "fPI8BEDru0pZ",
        "outputId": "1e04ea6c-4fda-4ead-b061-94c89a235cf7"
      },
      "execution_count": null,
      "outputs": [
        {
          "output_type": "stream",
          "name": "stdout",
          "text": [
            "Create the data generator.\n",
            "loading SMILES...\n",
            "done.\n",
            "tokenizing SMILES...\n"
          ]
        },
        {
          "output_type": "stream",
          "name": "stderr",
          "text": [
            "100%|██████████| 249455/249455 [00:08<00:00, 30602.28it/s]\n"
          ]
        },
        {
          "output_type": "stream",
          "name": "stdout",
          "text": [
            "done.\n",
            "Create the model.\n",
            "Create the trainer\n",
            "Start training the model.\n",
            "Epoch 1/20\n"
          ]
        },
        {
          "output_type": "stream",
          "name": "stderr",
          "text": [
            "/usr/lib/python3.10/multiprocessing/popen_fork.py:66: RuntimeWarning: os.fork() was called. os.fork() is incompatible with multithreaded code, and JAX is multithreaded, so this will likely lead to a deadlock.\n",
            "  self.pid = os.fork()\n"
          ]
        },
        {
          "output_type": "stream",
          "name": "stdout",
          "text": [
            "186/780 [======>.......................] - ETA: 3:35 - loss: 1.1857"
          ]
        },
        {
          "output_type": "stream",
          "name": "stderr",
          "text": [
            "Process Keras_worker_ForkPoolWorker-1:\n",
            "Traceback (most recent call last):\n",
            "  File \"/usr/lib/python3.10/multiprocessing/process.py\", line 314, in _bootstrap\n",
            "    self.run()\n",
            "  File \"/usr/lib/python3.10/multiprocessing/process.py\", line 108, in run\n",
            "    self._target(*self._args, **self._kwargs)\n",
            "  File \"/usr/lib/python3.10/multiprocessing/pool.py\", line 131, in worker\n",
            "    put((job, i, result))\n",
            "  File \"/usr/lib/python3.10/multiprocessing/queues.py\", line 377, in put\n",
            "    self._writer.send_bytes(obj)\n",
            "  File \"/usr/lib/python3.10/multiprocessing/connection.py\", line 200, in send_bytes\n",
            "    self._send_bytes(m[offset:offset + size])\n",
            "  File \"/usr/lib/python3.10/multiprocessing/connection.py\", line 405, in _send_bytes\n",
            "    self._send(buf)\n",
            "  File \"/usr/lib/python3.10/multiprocessing/connection.py\", line 368, in _send\n",
            "    n = write(self._handle, buf)\n",
            "KeyboardInterrupt\n",
            "Exception in thread Thread-15 (_handle_results):\n",
            "Traceback (most recent call last):\n",
            "  File \"/usr/lib/python3.10/threading.py\", line 1016, in _bootstrap_inner\n",
            "    self.run()\n",
            "  File \"/usr/lib/python3.10/threading.py\", line 953, in run\n",
            "    self._target(*self._args, **self._kwargs)\n",
            "  File \"/usr/lib/python3.10/multiprocessing/pool.py\", line 579, in _handle_results\n",
            "    task = get()\n",
            "  File \"/usr/lib/python3.10/multiprocessing/connection.py\", line 251, in recv\n",
            "    return _ForkingPickler.loads(buf.getbuffer())\n",
            "_pickle.UnpicklingError: invalid load key, '\\x00'.\n",
            "Process Keras_worker_ForkPoolWorker-2:\n",
            "Traceback (most recent call last):\n",
            "  File \"/usr/lib/python3.10/multiprocessing/process.py\", line 314, in _bootstrap\n",
            "    self.run()\n",
            "  File \"/usr/lib/python3.10/multiprocessing/process.py\", line 108, in run\n",
            "    self._target(*self._args, **self._kwargs)\n",
            "  File \"/usr/lib/python3.10/multiprocessing/pool.py\", line 131, in worker\n",
            "    put((job, i, result))\n",
            "  File \"/usr/lib/python3.10/multiprocessing/queues.py\", line 377, in put\n",
            "    self._writer.send_bytes(obj)\n",
            "  File \"/usr/lib/python3.10/multiprocessing/connection.py\", line 200, in send_bytes\n",
            "    self._send_bytes(m[offset:offset + size])\n",
            "  File \"/usr/lib/python3.10/multiprocessing/connection.py\", line 405, in _send_bytes\n",
            "    self._send(buf)\n",
            "  File \"/usr/lib/python3.10/multiprocessing/connection.py\", line 368, in _send\n",
            "    n = write(self._handle, buf)\n",
            "KeyboardInterrupt\n",
            "Process Keras_worker_ForkPoolWorker-3:\n",
            "Traceback (most recent call last):\n",
            "  File \"/usr/lib/python3.10/multiprocessing/process.py\", line 314, in _bootstrap\n",
            "    self.run()\n",
            "  File \"/usr/lib/python3.10/multiprocessing/process.py\", line 108, in run\n",
            "    self._target(*self._args, **self._kwargs)\n",
            "  File \"/usr/lib/python3.10/multiprocessing/pool.py\", line 131, in worker\n",
            "    put((job, i, result))\n",
            "  File \"/usr/lib/python3.10/multiprocessing/queues.py\", line 377, in put\n",
            "    self._writer.send_bytes(obj)\n",
            "  File \"/usr/lib/python3.10/multiprocessing/connection.py\", line 200, in send_bytes\n",
            "    self._send_bytes(m[offset:offset + size])\n",
            "  File \"/usr/lib/python3.10/multiprocessing/connection.py\", line 404, in _send_bytes\n",
            "    self._send(header)\n",
            "  File \"/usr/lib/python3.10/multiprocessing/connection.py\", line 368, in _send\n",
            "    n = write(self._handle, buf)\n",
            "KeyboardInterrupt\n",
            "Process Keras_worker_ForkPoolWorker-4:\n",
            "Traceback (most recent call last):\n",
            "  File \"/usr/lib/python3.10/multiprocessing/process.py\", line 314, in _bootstrap\n",
            "    self.run()\n",
            "  File \"/usr/lib/python3.10/multiprocessing/process.py\", line 108, in run\n",
            "    self._target(*self._args, **self._kwargs)\n",
            "  File \"/usr/lib/python3.10/multiprocessing/pool.py\", line 131, in worker\n",
            "    put((job, i, result))\n",
            "  File \"/usr/lib/python3.10/multiprocessing/queues.py\", line 377, in put\n",
            "    self._writer.send_bytes(obj)\n",
            "  File \"/usr/lib/python3.10/multiprocessing/connection.py\", line 200, in send_bytes\n",
            "    self._send_bytes(m[offset:offset + size])\n",
            "  File \"/usr/lib/python3.10/multiprocessing/connection.py\", line 404, in _send_bytes\n",
            "    self._send(header)\n",
            "  File \"/usr/lib/python3.10/multiprocessing/connection.py\", line 368, in _send\n",
            "    n = write(self._handle, buf)\n",
            "KeyboardInterrupt\n"
          ]
        }
      ]
    },
    {
      "cell_type": "code",
      "source": [
        "plt.plot(history_2.history['loss'])\n",
        "plt.plot(history_2.history['val_loss'])\n",
        "plt.title('Loss')\n",
        "plt.ylabel('Loss')\n",
        "plt.xlabel('epoch')\n",
        "plt.legend(['train', 'val'], loc='upper left')\n",
        "plt.show()"
      ],
      "metadata": {
        "id": "MM--mb4PvGMQ"
      },
      "execution_count": null,
      "outputs": []
    },
    {
      "cell_type": "code",
      "source": [
        "CONFIG_FILE_FINETUNE = 'config.json'"
      ],
      "metadata": {
        "id": "d-jFcOcY-OoI"
      },
      "execution_count": null,
      "outputs": []
    },
    {
      "cell_type": "code",
      "source": [
        "config_ft = process_config(CONFIG_FILE_FINETUNE)\n",
        "\n",
        "modeler_finetuning = Model(config_ft, session='finetune')\n",
        "finetune_dl = DataLoader(config_ft, data_type='finetune')\n",
        "\n",
        "finetuner = Finetuner(modeler_finetuning, finetune_dl)\n",
        "history = finetuner.finetune()"
      ],
      "metadata": {
        "id": "QJiAHgOY-LwW",
        "colab": {
          "base_uri": "https://localhost:8080/"
        },
        "outputId": "544e871d-4c29-4085-fb2b-71486b2e2458"
      },
      "execution_count": null,
      "outputs": [
        {
          "output_type": "stream",
          "name": "stdout",
          "text": [
            "Loading model architecture from model_arch.json ...\n",
            "Loading model checkpoint from checkpoints/LSTM_Model_2-14-0.27.hdf5 ...\n",
            "Loaded the Model.\n",
            "loading SMILES...\n",
            "done.\n",
            "tokenizing SMILES...\n"
          ]
        },
        {
          "output_type": "stream",
          "name": "stderr",
          "text": [
            "100%|██████████| 5000/5000 [00:00<00:00, 13541.68it/s]\n"
          ]
        },
        {
          "output_type": "stream",
          "name": "stdout",
          "text": [
            "done.\n",
            "Epoch 1/20\n"
          ]
        },
        {
          "output_type": "stream",
          "name": "stderr",
          "text": [
            "/usr/lib/python3.10/multiprocessing/popen_fork.py:66: RuntimeWarning: os.fork() was called. os.fork() is incompatible with multithreaded code, and JAX is multithreaded, so this will likely lead to a deadlock.\n",
            "  self.pid = os.fork()\n"
          ]
        },
        {
          "output_type": "stream",
          "name": "stdout",
          "text": [
            "5000/5000 [==============================] - 54s 9ms/step - loss: 1.1122\n"
          ]
        },
        {
          "output_type": "stream",
          "name": "stderr",
          "text": [
            "/usr/lib/python3.10/multiprocessing/popen_fork.py:66: RuntimeWarning: os.fork() was called. os.fork() is incompatible with multithreaded code, and JAX is multithreaded, so this will likely lead to a deadlock.\n",
            "  self.pid = os.fork()\n"
          ]
        },
        {
          "output_type": "stream",
          "name": "stdout",
          "text": [
            "Epoch 2/20\n",
            "5000/5000 [==============================] - 49s 10ms/step - loss: 1.0073\n",
            "Epoch 3/20\n",
            "5000/5000 [==============================] - 52s 10ms/step - loss: 0.9677\n",
            "Epoch 4/20\n",
            "5000/5000 [==============================] - 48s 10ms/step - loss: 0.9402\n",
            "Epoch 5/20\n",
            "5000/5000 [==============================] - 48s 10ms/step - loss: 0.9202\n",
            "Epoch 6/20\n",
            "5000/5000 [==============================] - 57s 11ms/step - loss: 0.9044\n",
            "Epoch 7/20\n",
            "5000/5000 [==============================] - 59s 12ms/step - loss: 0.8917\n",
            "Epoch 8/20\n",
            "5000/5000 [==============================] - 54s 11ms/step - loss: 0.8795\n",
            "Epoch 9/20\n",
            "5000/5000 [==============================] - 49s 10ms/step - loss: 0.8702\n",
            "Epoch 10/20\n",
            "5000/5000 [==============================] - 51s 10ms/step - loss: 0.8607\n",
            "Epoch 11/20\n",
            "5000/5000 [==============================] - 48s 10ms/step - loss: 0.8550\n",
            "Epoch 12/20\n",
            "5000/5000 [==============================] - 48s 9ms/step - loss: 0.8423\n",
            "Epoch 13/20\n",
            "5000/5000 [==============================] - 48s 10ms/step - loss: 0.8391\n",
            "Epoch 14/20\n",
            "5000/5000 [==============================] - 47s 9ms/step - loss: 0.8315\n",
            "Epoch 15/20\n",
            "5000/5000 [==============================] - 47s 9ms/step - loss: 0.8273\n",
            "Epoch 16/20\n",
            "5000/5000 [==============================] - 49s 10ms/step - loss: 0.8226\n",
            "Epoch 17/20\n",
            "5000/5000 [==============================] - 51s 10ms/step - loss: 0.8121\n",
            "Epoch 18/20\n",
            "5000/5000 [==============================] - 50s 10ms/step - loss: 0.8148\n",
            "Epoch 19/20\n",
            "5000/5000 [==============================] - 47s 9ms/step - loss: 0.8076\n",
            "Epoch 20/20\n",
            "5000/5000 [==============================] - 47s 9ms/step - loss: 0.8063\n"
          ]
        }
      ]
    },
    {
      "cell_type": "code",
      "source": [
        "plt.plot(history.history['loss'])\n",
        "#plt.plot(history.history['val_loss'])\n",
        "plt.title('Loss')\n",
        "plt.ylabel('Loss')\n",
        "plt.xlabel('epoch')\n",
        "plt.legend(['train', 'val'], loc='upper left')\n",
        "plt.show()"
      ],
      "metadata": {
        "colab": {
          "base_uri": "https://localhost:8080/",
          "height": 472
        },
        "id": "uivCB40pps0M",
        "outputId": "0a5b6dd9-d77a-4616-8b56-fc0bd2971e14"
      },
      "execution_count": null,
      "outputs": [
        {
          "output_type": "display_data",
          "data": {
            "text/plain": [
              "<Figure size 640x480 with 1 Axes>"
            ],
            "image/png": "[encoded data removed]"
          },
          "metadata": {}
        }
      ]
    },
    {
      "cell_type": "code",
      "source": [
        "finetuned_smiles = finetuner.sample(num=1000)"
      ],
      "metadata": {
        "id": "LMaNP3B2__Gx"
      },
      "execution_count": null,
      "outputs": []
    },
    {
      "cell_type": "code",
      "source": [
        "with open('finetuned_smiles.smi', 'w') as f:\n",
        "  for smi in finetuned_smiles:\n",
        "    f.write(smi + '\\n')"
      ],
      "metadata": {
        "id": "G9jBM6Z3vijt"
      },
      "execution_count": null,
      "outputs": []
    },
    {
      "cell_type": "code",
      "source": [
        "valid_mols = []\n",
        "for smi in finetuned_smiles:\n",
        "    mol = Chem.MolFromSmiles(smi)\n",
        "    if mol is not None:\n",
        "        valid_mols.append(mol)\n",
        "# low validity\n",
        "print(f'{len(valid_mols) / 1000:.2%}')"
      ],
      "metadata": {
        "id": "2t0EN7--vstM",
        "colab": {
          "base_uri": "https://localhost:8080/"
        },
        "outputId": "31371cb9-0257-454a-af53-96ee44165109"
      },
      "execution_count": null,
      "outputs": [
        {
          "output_type": "stream",
          "name": "stdout",
          "text": [
            "100.00%\n"
          ]
        }
      ]
    },
    {
      "cell_type": "markdown",
      "source": [
        "###Без предварительного обучения"
      ],
      "metadata": {
        "id": "94u9eScEuWS7"
      }
    },
    {
      "cell_type": "code",
      "source": [
        "config3 = process_config('base_config_3.json')"
      ],
      "metadata": {
        "id": "yIN3R2yBuvdx"
      },
      "execution_count": null,
      "outputs": []
    },
    {
      "cell_type": "code",
      "source": [
        "print('Create the data generator.')\n",
        "train_dl_3 = DataLoader(config3, data_type='train')\n",
        "valid_dl_3 = copy(train_dl_3)\n",
        "valid_dl_3.data_type = 'valid'\n",
        "\n",
        "print('Create the model.')\n",
        "modeler_3 = Model(config3, session='train')\n",
        "\n",
        "print('Create the trainer')\n",
        "trainer_3 = Trainer(modeler_3, train_dl_3, valid_dl_3)\n",
        "\n",
        "print('Start training the model.')\n",
        "history_3 = trainer_3.train()"
      ],
      "metadata": {
        "colab": {
          "base_uri": "https://localhost:8080/"
        },
        "id": "Kh22GPKruUsY",
        "outputId": "6056066a-5eb3-4896-d766-980078573206"
      },
      "execution_count": null,
      "outputs": [
        {
          "output_type": "stream",
          "name": "stdout",
          "text": [
            "Create the data generator.\n",
            "loading SMILES...\n",
            "done.\n",
            "tokenizing SMILES...\n"
          ]
        },
        {
          "output_type": "stream",
          "name": "stderr",
          "text": [
            "100%|██████████| 5000/5000 [00:00<00:00, 23120.71it/s]\n"
          ]
        },
        {
          "output_type": "stream",
          "name": "stdout",
          "text": [
            "done.\n",
            "Create the model.\n",
            "Create the trainer\n",
            "Start training the model.\n",
            "Epoch 1/100\n"
          ]
        },
        {
          "output_type": "stream",
          "name": "stderr",
          "text": [
            "/usr/lib/python3.10/multiprocessing/popen_fork.py:66: RuntimeWarning: os.fork() was called. os.fork() is incompatible with multithreaded code, and JAX is multithreaded, so this will likely lead to a deadlock.\n",
            "  self.pid = os.fork()\n"
          ]
        },
        {
          "output_type": "stream",
          "name": "stdout",
          "text": [
            "16/16 [==============================] - ETA: 0s - loss: 2.3760\n",
            "Epoch 1: saving model to checkpoints/LSTM_Model_3-01-1.89.hdf5\n",
            "16/16 [==============================] - 13s 566ms/step - loss: 2.3760 - val_loss: 1.8856\n",
            "Epoch 2/100\n",
            "15/16 [===========================>..] - ETA: 0s - loss: 1.8139\n",
            "Epoch 2: saving model to checkpoints/LSTM_Model_3-02-1.70.hdf5\n",
            "16/16 [==============================] - 7s 416ms/step - loss: 1.8127 - val_loss: 1.6989\n",
            "Epoch 3/100\n",
            "16/16 [==============================] - ETA: 0s - loss: 1.6918\n",
            "Epoch 3: saving model to checkpoints/LSTM_Model_3-03-1.63.hdf5\n",
            "16/16 [==============================] - 7s 447ms/step - loss: 1.6918 - val_loss: 1.6341\n",
            "Epoch 4/100\n",
            "16/16 [==============================] - ETA: 0s - loss: 1.6404\n",
            "Epoch 4: saving model to checkpoints/LSTM_Model_3-04-1.60.hdf5\n",
            "16/16 [==============================] - 7s 436ms/step - loss: 1.6404 - val_loss: 1.5985\n",
            "Epoch 5/100\n",
            "15/16 [===========================>..] - ETA: 0s - loss: 1.6052\n",
            "Epoch 5: saving model to checkpoints/LSTM_Model_3-05-1.56.hdf5\n",
            "16/16 [==============================] - 7s 425ms/step - loss: 1.6039 - val_loss: 1.5637\n",
            "Epoch 6/100\n",
            "16/16 [==============================] - ETA: 0s - loss: 1.5758\n",
            "Epoch 6: saving model to checkpoints/LSTM_Model_3-06-1.54.hdf5\n",
            "16/16 [==============================] - 7s 426ms/step - loss: 1.5758 - val_loss: 1.5360\n",
            "Epoch 7/100\n",
            "15/16 [===========================>..] - ETA: 0s - loss: 1.5461\n",
            "Epoch 7: saving model to checkpoints/LSTM_Model_3-07-1.50.hdf5\n",
            "16/16 [==============================] - 7s 429ms/step - loss: 1.5465 - val_loss: 1.4986\n",
            "Epoch 8/100\n",
            "15/16 [===========================>..] - ETA: 0s - loss: 1.5122\n",
            "Epoch 8: saving model to checkpoints/LSTM_Model_3-08-1.45.hdf5\n",
            "16/16 [==============================] - 7s 424ms/step - loss: 1.5115 - val_loss: 1.4537\n",
            "Epoch 9/100\n",
            "16/16 [==============================] - ETA: 0s - loss: 1.4621\n",
            "Epoch 9: saving model to checkpoints/LSTM_Model_3-09-1.37.hdf5\n",
            "16/16 [==============================] - 7s 443ms/step - loss: 1.4621 - val_loss: 1.3708\n",
            "Epoch 10/100\n",
            "16/16 [==============================] - ETA: 0s - loss: 1.3930\n",
            "Epoch 10: saving model to checkpoints/LSTM_Model_3-10-1.27.hdf5\n",
            "16/16 [==============================] - 7s 417ms/step - loss: 1.3930 - val_loss: 1.2726\n",
            "Epoch 11/100\n",
            "16/16 [==============================] - ETA: 0s - loss: 1.3194\n",
            "Epoch 11: saving model to checkpoints/LSTM_Model_3-11-1.17.hdf5\n",
            "16/16 [==============================] - 7s 449ms/step - loss: 1.3194 - val_loss: 1.1714\n",
            "Epoch 12/100\n",
            "16/16 [==============================] - ETA: 0s - loss: 1.2508\n",
            "Epoch 12: saving model to checkpoints/LSTM_Model_3-12-1.08.hdf5\n",
            "16/16 [==============================] - 7s 415ms/step - loss: 1.2508 - val_loss: 1.0837\n",
            "Epoch 13/100\n",
            "16/16 [==============================] - ETA: 0s - loss: 1.1952\n",
            "Epoch 13: saving model to checkpoints/LSTM_Model_3-13-1.03.hdf5\n",
            "16/16 [==============================] - 7s 459ms/step - loss: 1.1952 - val_loss: 1.0253\n",
            "Epoch 14/100\n",
            "16/16 [==============================] - ETA: 0s - loss: 1.1537\n",
            "Epoch 14: saving model to checkpoints/LSTM_Model_3-14-0.98.hdf5\n",
            "16/16 [==============================] - 7s 438ms/step - loss: 1.1537 - val_loss: 0.9843\n",
            "Epoch 15/100\n",
            "16/16 [==============================] - ETA: 0s - loss: 1.1231\n",
            "Epoch 15: saving model to checkpoints/LSTM_Model_3-15-0.95.hdf5\n",
            "16/16 [==============================] - 7s 434ms/step - loss: 1.1231 - val_loss: 0.9526\n",
            "Epoch 16/100\n",
            "16/16 [==============================] - ETA: 0s - loss: 1.1018\n",
            "Epoch 16: saving model to checkpoints/LSTM_Model_3-16-0.93.hdf5\n",
            "16/16 [==============================] - 7s 443ms/step - loss: 1.1018 - val_loss: 0.9288\n",
            "Epoch 17/100\n",
            "16/16 [==============================] - ETA: 0s - loss: 1.0845\n",
            "Epoch 17: saving model to checkpoints/LSTM_Model_3-17-0.91.hdf5\n",
            "16/16 [==============================] - 7s 448ms/step - loss: 1.0845 - val_loss: 0.9086\n",
            "Epoch 18/100\n",
            "16/16 [==============================] - ETA: 0s - loss: 1.0672\n",
            "Epoch 18: saving model to checkpoints/LSTM_Model_3-18-0.89.hdf5\n",
            "16/16 [==============================] - 7s 463ms/step - loss: 1.0672 - val_loss: 0.8888\n",
            "Epoch 19/100\n",
            "15/16 [===========================>..] - ETA: 0s - loss: 1.0471\n",
            "Epoch 19: saving model to checkpoints/LSTM_Model_3-19-0.87.hdf5\n",
            "16/16 [==============================] - 7s 456ms/step - loss: 1.0480 - val_loss: 0.8688\n",
            "Epoch 20/100\n",
            "16/16 [==============================] - ETA: 0s - loss: 1.0318\n",
            "Epoch 20: saving model to checkpoints/LSTM_Model_3-20-0.86.hdf5\n",
            "16/16 [==============================] - 7s 426ms/step - loss: 1.0318 - val_loss: 0.8588\n",
            "Epoch 21/100\n",
            "16/16 [==============================] - ETA: 0s - loss: 1.0201\n",
            "Epoch 21: saving model to checkpoints/LSTM_Model_3-21-0.83.hdf5\n",
            "16/16 [==============================] - 7s 451ms/step - loss: 1.0201 - val_loss: 0.8346\n",
            "Epoch 22/100\n",
            "16/16 [==============================] - ETA: 0s - loss: 1.0082\n",
            "Epoch 22: saving model to checkpoints/LSTM_Model_3-22-0.83.hdf5\n",
            "16/16 [==============================] - 7s 443ms/step - loss: 1.0082 - val_loss: 0.8333\n",
            "Epoch 23/100\n",
            "16/16 [==============================] - ETA: 0s - loss: 0.9939\n",
            "Epoch 23: saving model to checkpoints/LSTM_Model_3-23-0.81.hdf5\n",
            "16/16 [==============================] - 8s 488ms/step - loss: 0.9939 - val_loss: 0.8077\n",
            "Epoch 24/100\n",
            "16/16 [==============================] - ETA: 0s - loss: 0.9801\n",
            "Epoch 24: saving model to checkpoints/LSTM_Model_3-24-0.80.hdf5\n",
            "16/16 [==============================] - 8s 533ms/step - loss: 0.9801 - val_loss: 0.7962\n",
            "Epoch 25/100\n",
            "15/16 [===========================>..] - ETA: 0s - loss: 0.9683\n",
            "Epoch 25: saving model to checkpoints/LSTM_Model_3-25-0.78.hdf5\n",
            "16/16 [==============================] - 7s 431ms/step - loss: 0.9675 - val_loss: 0.7836\n",
            "Epoch 26/100\n",
            "15/16 [===========================>..] - ETA: 0s - loss: 0.9607\n",
            "Epoch 26: saving model to checkpoints/LSTM_Model_3-26-0.77.hdf5\n",
            "16/16 [==============================] - 7s 439ms/step - loss: 0.9595 - val_loss: 0.7677\n",
            "Epoch 27/100\n",
            "16/16 [==============================] - ETA: 0s - loss: 0.9446\n",
            "Epoch 27: saving model to checkpoints/LSTM_Model_3-27-0.76.hdf5\n",
            "16/16 [==============================] - 7s 424ms/step - loss: 0.9446 - val_loss: 0.7573\n",
            "Epoch 28/100\n",
            "16/16 [==============================] - ETA: 0s - loss: 0.9391\n",
            "Epoch 28: saving model to checkpoints/LSTM_Model_3-28-0.75.hdf5\n",
            "16/16 [==============================] - 7s 455ms/step - loss: 0.9391 - val_loss: 0.7495\n",
            "Epoch 29/100\n",
            "16/16 [==============================] - ETA: 0s - loss: 0.9272\n",
            "Epoch 29: saving model to checkpoints/LSTM_Model_3-29-0.74.hdf5\n",
            "16/16 [==============================] - 7s 418ms/step - loss: 0.9272 - val_loss: 0.7389\n",
            "Epoch 30/100\n",
            "15/16 [===========================>..] - ETA: 0s - loss: 0.9189\n",
            "Epoch 30: saving model to checkpoints/LSTM_Model_3-30-0.73.hdf5\n",
            "16/16 [==============================] - 7s 423ms/step - loss: 0.9183 - val_loss: 0.7282\n",
            "Epoch 31/100\n",
            "15/16 [===========================>..] - ETA: 0s - loss: 0.9066\n",
            "Epoch 31: saving model to checkpoints/LSTM_Model_3-31-0.72.hdf5\n",
            "16/16 [==============================] - 7s 428ms/step - loss: 0.9075 - val_loss: 0.7172\n",
            "Epoch 32/100\n",
            "16/16 [==============================] - ETA: 0s - loss: 0.9021\n",
            "Epoch 32: saving model to checkpoints/LSTM_Model_3-32-0.71.hdf5\n",
            "16/16 [==============================] - 7s 432ms/step - loss: 0.9021 - val_loss: 0.7092\n",
            "Epoch 33/100\n",
            "15/16 [===========================>..] - ETA: 0s - loss: 0.8896\n",
            "Epoch 33: saving model to checkpoints/LSTM_Model_3-33-0.70.hdf5\n",
            "16/16 [==============================] - 7s 438ms/step - loss: 0.8897 - val_loss: 0.7008\n",
            "Epoch 34/100\n",
            "15/16 [===========================>..] - ETA: 0s - loss: 0.8857\n",
            "Epoch 34: saving model to checkpoints/LSTM_Model_3-34-0.70.hdf5\n",
            "16/16 [==============================] - 7s 431ms/step - loss: 0.8848 - val_loss: 0.6960\n",
            "Epoch 35/100\n",
            "16/16 [==============================] - ETA: 0s - loss: 0.8780\n",
            "Epoch 35: saving model to checkpoints/LSTM_Model_3-35-0.68.hdf5\n",
            "16/16 [==============================] - 7s 432ms/step - loss: 0.8780 - val_loss: 0.6844\n",
            "Epoch 36/100\n",
            "16/16 [==============================] - ETA: 0s - loss: 0.8724\n",
            "Epoch 36: saving model to checkpoints/LSTM_Model_3-36-0.68.hdf5\n",
            "16/16 [==============================] - 7s 457ms/step - loss: 0.8724 - val_loss: 0.6797\n",
            "Epoch 37/100\n",
            "16/16 [==============================] - ETA: 0s - loss: 0.8617\n",
            "Epoch 37: saving model to checkpoints/LSTM_Model_3-37-0.67.hdf5\n",
            "16/16 [==============================] - 7s 419ms/step - loss: 0.8617 - val_loss: 0.6702\n",
            "Epoch 38/100\n",
            "16/16 [==============================] - ETA: 0s - loss: 0.8549\n",
            "Epoch 38: saving model to checkpoints/LSTM_Model_3-38-0.67.hdf5\n",
            "16/16 [==============================] - 7s 424ms/step - loss: 0.8549 - val_loss: 0.6657\n",
            "Epoch 39/100\n",
            "16/16 [==============================] - ETA: 0s - loss: 0.8523\n",
            "Epoch 39: saving model to checkpoints/LSTM_Model_3-39-0.66.hdf5\n",
            "16/16 [==============================] - 7s 449ms/step - loss: 0.8523 - val_loss: 0.6618\n",
            "Epoch 40/100\n",
            "16/16 [==============================] - ETA: 0s - loss: 0.8443\n",
            "Epoch 40: saving model to checkpoints/LSTM_Model_3-40-0.65.hdf5\n",
            "16/16 [==============================] - 2s 126ms/step - loss: 0.8443 - val_loss: 0.6544\n",
            "Epoch 41/100\n",
            "16/16 [==============================] - ETA: 0s - loss: 0.8427\n",
            "Epoch 41: saving model to checkpoints/LSTM_Model_3-41-0.65.hdf5\n",
            "16/16 [==============================] - 7s 446ms/step - loss: 0.8427 - val_loss: 0.6547\n",
            "Epoch 42/100\n",
            "15/16 [===========================>..] - ETA: 0s - loss: 0.8395\n",
            "Epoch 42: saving model to checkpoints/LSTM_Model_3-42-0.64.hdf5\n",
            "16/16 [==============================] - 7s 415ms/step - loss: 0.8394 - val_loss: 0.6441\n",
            "Epoch 43/100\n",
            "16/16 [==============================] - ETA: 0s - loss: 0.8308\n",
            "Epoch 43: saving model to checkpoints/LSTM_Model_3-43-0.64.hdf5\n",
            "16/16 [==============================] - 7s 459ms/step - loss: 0.8308 - val_loss: 0.6416\n",
            "Epoch 44/100\n",
            "16/16 [==============================] - ETA: 0s - loss: 0.8279\n",
            "Epoch 44: saving model to checkpoints/LSTM_Model_3-44-0.63.hdf5\n",
            "16/16 [==============================] - 7s 430ms/step - loss: 0.8279 - val_loss: 0.6338\n",
            "Epoch 45/100\n",
            "16/16 [==============================] - ETA: 0s - loss: 0.8203\n",
            "Epoch 45: saving model to checkpoints/LSTM_Model_3-45-0.63.hdf5\n",
            "16/16 [==============================] - 7s 461ms/step - loss: 0.8203 - val_loss: 0.6303\n",
            "Epoch 46/100\n",
            "16/16 [==============================] - ETA: 0s - loss: 0.8136\n",
            "Epoch 46: saving model to checkpoints/LSTM_Model_3-46-0.62.hdf5\n",
            "16/16 [==============================] - 7s 429ms/step - loss: 0.8136 - val_loss: 0.6248\n",
            "Epoch 47/100\n",
            "16/16 [==============================] - ETA: 0s - loss: 0.8167\n",
            "Epoch 47: saving model to checkpoints/LSTM_Model_3-47-0.62.hdf5\n",
            "16/16 [==============================] - 7s 431ms/step - loss: 0.8167 - val_loss: 0.6237\n",
            "Epoch 48/100\n",
            "16/16 [==============================] - ETA: 0s - loss: 0.8091\n",
            "Epoch 48: saving model to checkpoints/LSTM_Model_3-48-0.62.hdf5\n",
            "16/16 [==============================] - 7s 452ms/step - loss: 0.8091 - val_loss: 0.6213\n",
            "Epoch 49/100\n",
            "16/16 [==============================] - ETA: 0s - loss: 0.8065\n",
            "Epoch 49: saving model to checkpoints/LSTM_Model_3-49-0.61.hdf5\n",
            "16/16 [==============================] - 7s 454ms/step - loss: 0.8065 - val_loss: 0.6133\n",
            "Epoch 50/100\n",
            "16/16 [==============================] - ETA: 0s - loss: 0.8002\n",
            "Epoch 50: saving model to checkpoints/LSTM_Model_3-50-0.61.hdf5\n",
            "16/16 [==============================] - 6s 414ms/step - loss: 0.8002 - val_loss: 0.6115\n",
            "Epoch 51/100\n",
            "16/16 [==============================] - ETA: 0s - loss: 0.7961\n",
            "Epoch 51: saving model to checkpoints/LSTM_Model_3-51-0.61.hdf5\n",
            "16/16 [==============================] - 7s 454ms/step - loss: 0.7961 - val_loss: 0.6083\n",
            "Epoch 52/100\n",
            "16/16 [==============================] - ETA: 0s - loss: 0.7945\n",
            "Epoch 52: saving model to checkpoints/LSTM_Model_3-52-0.61.hdf5\n",
            "16/16 [==============================] - 7s 449ms/step - loss: 0.7945 - val_loss: 0.6053\n",
            "Epoch 53/100\n",
            "16/16 [==============================] - ETA: 0s - loss: 0.7913\n",
            "Epoch 53: saving model to checkpoints/LSTM_Model_3-53-0.60.hdf5\n",
            "16/16 [==============================] - 7s 418ms/step - loss: 0.7913 - val_loss: 0.5991\n",
            "Epoch 54/100\n",
            "16/16 [==============================] - ETA: 0s - loss: 0.7883\n",
            "Epoch 54: saving model to checkpoints/LSTM_Model_3-54-0.60.hdf5\n",
            "16/16 [==============================] - 7s 454ms/step - loss: 0.7883 - val_loss: 0.5951\n",
            "Epoch 55/100\n",
            "16/16 [==============================] - ETA: 0s - loss: 0.7854\n",
            "Epoch 55: saving model to checkpoints/LSTM_Model_3-55-0.59.hdf5\n",
            "16/16 [==============================] - 7s 439ms/step - loss: 0.7854 - val_loss: 0.5949\n",
            "Epoch 56/100\n",
            "16/16 [==============================] - ETA: 0s - loss: 0.7800\n",
            "Epoch 56: saving model to checkpoints/LSTM_Model_3-56-0.59.hdf5\n",
            "16/16 [==============================] - 7s 459ms/step - loss: 0.7800 - val_loss: 0.5902\n",
            "Epoch 57/100\n",
            "16/16 [==============================] - ETA: 0s - loss: 0.7766\n",
            "Epoch 57: saving model to checkpoints/LSTM_Model_3-57-0.59.hdf5\n",
            "16/16 [==============================] - 7s 429ms/step - loss: 0.7766 - val_loss: 0.5903\n",
            "Epoch 58/100\n",
            "15/16 [===========================>..] - ETA: 0s - loss: 0.7748\n",
            "Epoch 58: saving model to checkpoints/LSTM_Model_3-58-0.59.hdf5\n",
            "16/16 [==============================] - 7s 439ms/step - loss: 0.7739 - val_loss: 0.5875\n",
            "Epoch 59/100\n",
            "16/16 [==============================] - ETA: 0s - loss: 0.7704\n",
            "Epoch 59: saving model to checkpoints/LSTM_Model_3-59-0.58.hdf5\n",
            "16/16 [==============================] - 7s 429ms/step - loss: 0.7704 - val_loss: 0.5837\n",
            "Epoch 60/100\n",
            "16/16 [==============================] - ETA: 0s - loss: 0.7693\n",
            "Epoch 60: saving model to checkpoints/LSTM_Model_3-60-0.58.hdf5\n",
            "16/16 [==============================] - 7s 454ms/step - loss: 0.7693 - val_loss: 0.5817\n",
            "Epoch 61/100\n",
            "16/16 [==============================] - ETA: 0s - loss: 0.7639\n",
            "Epoch 61: saving model to checkpoints/LSTM_Model_3-61-0.58.hdf5\n",
            "16/16 [==============================] - 7s 461ms/step - loss: 0.7639 - val_loss: 0.5777\n",
            "Epoch 62/100\n",
            "15/16 [===========================>..] - ETA: 0s - loss: 0.7637\n",
            "Epoch 62: saving model to checkpoints/LSTM_Model_3-62-0.57.hdf5\n",
            "16/16 [==============================] - 7s 419ms/step - loss: 0.7627 - val_loss: 0.5745\n",
            "Epoch 63/100\n",
            "15/16 [===========================>..] - ETA: 0s - loss: 0.7561\n",
            "Epoch 63: saving model to checkpoints/LSTM_Model_3-63-0.57.hdf5\n",
            "16/16 [==============================] - 7s 470ms/step - loss: 0.7569 - val_loss: 0.5690\n",
            "Epoch 64/100\n",
            "16/16 [==============================] - ETA: 0s - loss: 0.7594\n",
            "Epoch 64: saving model to checkpoints/LSTM_Model_3-64-0.57.hdf5\n",
            "16/16 [==============================] - 7s 415ms/step - loss: 0.7594 - val_loss: 0.5686\n",
            "Epoch 65/100\n",
            "15/16 [===========================>..] - ETA: 0s - loss: 0.7538\n",
            "Epoch 65: saving model to checkpoints/LSTM_Model_3-65-0.57.hdf5\n",
            "16/16 [==============================] - 7s 441ms/step - loss: 0.7556 - val_loss: 0.5674\n",
            "Epoch 66/100\n",
            "16/16 [==============================] - ETA: 0s - loss: 0.7482\n",
            "Epoch 66: saving model to checkpoints/LSTM_Model_3-66-0.57.hdf5\n",
            "16/16 [==============================] - 7s 454ms/step - loss: 0.7482 - val_loss: 0.5662\n",
            "Epoch 67/100\n",
            "15/16 [===========================>..] - ETA: 0s - loss: 0.7487\n",
            "Epoch 67: saving model to checkpoints/LSTM_Model_3-67-0.57.hdf5\n",
            "16/16 [==============================] - 7s 420ms/step - loss: 0.7501 - val_loss: 0.5661\n",
            "Epoch 68/100\n",
            "16/16 [==============================] - ETA: 0s - loss: 0.7470\n",
            "Epoch 68: saving model to checkpoints/LSTM_Model_3-68-0.56.hdf5\n",
            "16/16 [==============================] - 7s 452ms/step - loss: 0.7470 - val_loss: 0.5603\n",
            "Epoch 69/100\n",
            "16/16 [==============================] - ETA: 0s - loss: 0.7438\n",
            "Epoch 69: saving model to checkpoints/LSTM_Model_3-69-0.56.hdf5\n",
            "16/16 [==============================] - 7s 426ms/step - loss: 0.7438 - val_loss: 0.5591\n",
            "Epoch 70/100\n",
            "16/16 [==============================] - ETA: 0s - loss: 0.7418\n",
            "Epoch 70: saving model to checkpoints/LSTM_Model_3-70-0.55.hdf5\n",
            "16/16 [==============================] - 7s 458ms/step - loss: 0.7418 - val_loss: 0.5545\n",
            "Epoch 71/100\n",
            "16/16 [==============================] - ETA: 0s - loss: 0.7399\n",
            "Epoch 71: saving model to checkpoints/LSTM_Model_3-71-0.56.hdf5\n",
            "16/16 [==============================] - 7s 421ms/step - loss: 0.7399 - val_loss: 0.5550\n",
            "Epoch 72/100\n",
            "16/16 [==============================] - ETA: 0s - loss: 0.7366\n",
            "Epoch 72: saving model to checkpoints/LSTM_Model_3-72-0.55.hdf5\n",
            "16/16 [==============================] - 7s 451ms/step - loss: 0.7366 - val_loss: 0.5525\n",
            "Epoch 73/100\n",
            "16/16 [==============================] - ETA: 0s - loss: 0.7330\n",
            "Epoch 73: saving model to checkpoints/LSTM_Model_3-73-0.55.hdf5\n",
            "16/16 [==============================] - 7s 465ms/step - loss: 0.7330 - val_loss: 0.5514\n",
            "Epoch 74/100\n",
            "16/16 [==============================] - ETA: 0s - loss: 0.7311\n",
            "Epoch 74: saving model to checkpoints/LSTM_Model_3-74-0.55.hdf5\n",
            "16/16 [==============================] - 7s 430ms/step - loss: 0.7311 - val_loss: 0.5468\n",
            "Epoch 75/100\n",
            "15/16 [===========================>..] - ETA: 0s - loss: 0.7302\n",
            "Epoch 75: saving model to checkpoints/LSTM_Model_3-75-0.55.hdf5\n",
            "16/16 [==============================] - 7s 423ms/step - loss: 0.7299 - val_loss: 0.5486\n",
            "Epoch 76/100\n",
            "16/16 [==============================] - ETA: 0s - loss: 0.7255\n",
            "Epoch 76: saving model to checkpoints/LSTM_Model_3-76-0.55.hdf5\n",
            "16/16 [==============================] - 7s 432ms/step - loss: 0.7255 - val_loss: 0.5452\n",
            "Epoch 77/100\n",
            "16/16 [==============================] - ETA: 0s - loss: 0.7293\n",
            "Epoch 77: saving model to checkpoints/LSTM_Model_3-77-0.54.hdf5\n",
            "16/16 [==============================] - 6s 412ms/step - loss: 0.7293 - val_loss: 0.5437\n",
            "Epoch 78/100\n",
            "16/16 [==============================] - ETA: 0s - loss: 0.7257\n",
            "Epoch 78: saving model to checkpoints/LSTM_Model_3-78-0.54.hdf5\n",
            "16/16 [==============================] - 6s 415ms/step - loss: 0.7257 - val_loss: 0.5405\n",
            "Epoch 79/100\n",
            "16/16 [==============================] - ETA: 0s - loss: 0.7229\n",
            "Epoch 79: saving model to checkpoints/LSTM_Model_3-79-0.54.hdf5\n",
            "16/16 [==============================] - 7s 415ms/step - loss: 0.7229 - val_loss: 0.5413\n",
            "Epoch 80/100\n",
            "16/16 [==============================] - ETA: 0s - loss: 0.7241\n",
            "Epoch 80: saving model to checkpoints/LSTM_Model_3-80-0.54.hdf5\n",
            "16/16 [==============================] - 7s 423ms/step - loss: 0.7241 - val_loss: 0.5429\n",
            "Epoch 81/100\n",
            "16/16 [==============================] - ETA: 0s - loss: 0.7227\n",
            "Epoch 81: saving model to checkpoints/LSTM_Model_3-81-0.54.hdf5\n",
            "16/16 [==============================] - 7s 458ms/step - loss: 0.7227 - val_loss: 0.5359\n",
            "Epoch 82/100\n",
            "16/16 [==============================] - ETA: 0s - loss: 0.7182\n",
            "Epoch 82: saving model to checkpoints/LSTM_Model_3-82-0.54.hdf5\n",
            "16/16 [==============================] - 7s 431ms/step - loss: 0.7182 - val_loss: 0.5375\n",
            "Epoch 83/100\n",
            "15/16 [===========================>..] - ETA: 0s - loss: 0.7160\n",
            "Epoch 83: saving model to checkpoints/LSTM_Model_3-83-0.54.hdf5\n",
            "16/16 [==============================] - 7s 419ms/step - loss: 0.7164 - val_loss: 0.5353\n",
            "Epoch 84/100\n",
            "16/16 [==============================] - ETA: 0s - loss: 0.7147\n",
            "Epoch 84: saving model to checkpoints/LSTM_Model_3-84-0.53.hdf5\n",
            "16/16 [==============================] - 7s 423ms/step - loss: 0.7147 - val_loss: 0.5338\n",
            "Epoch 85/100\n",
            "15/16 [===========================>..] - ETA: 0s - loss: 0.7119\n",
            "Epoch 85: saving model to checkpoints/LSTM_Model_3-85-0.53.hdf5\n",
            "16/16 [==============================] - 7s 411ms/step - loss: 0.7110 - val_loss: 0.5347\n",
            "Epoch 86/100\n",
            "16/16 [==============================] - ETA: 0s - loss: 0.7084\n",
            "Epoch 86: saving model to checkpoints/LSTM_Model_3-86-0.53.hdf5\n",
            "16/16 [==============================] - 7s 416ms/step - loss: 0.7084 - val_loss: 0.5301\n",
            "Epoch 87/100\n",
            "15/16 [===========================>..] - ETA: 0s - loss: 0.7034\n",
            "Epoch 87: saving model to checkpoints/LSTM_Model_3-87-0.53.hdf5\n",
            "16/16 [==============================] - 7s 427ms/step - loss: 0.7046 - val_loss: 0.5281\n",
            "Epoch 88/100\n",
            "16/16 [==============================] - ETA: 0s - loss: 0.7051\n",
            "Epoch 88: saving model to checkpoints/LSTM_Model_3-88-0.53.hdf5\n",
            "16/16 [==============================] - 7s 420ms/step - loss: 0.7051 - val_loss: 0.5297\n",
            "Epoch 89/100\n",
            "16/16 [==============================] - ETA: 0s - loss: 0.7037\n",
            "Epoch 89: saving model to checkpoints/LSTM_Model_3-89-0.53.hdf5\n",
            "16/16 [==============================] - 7s 436ms/step - loss: 0.7037 - val_loss: 0.5271\n",
            "Epoch 90/100\n",
            "16/16 [==============================] - ETA: 0s - loss: 0.7039\n",
            "Epoch 90: saving model to checkpoints/LSTM_Model_3-90-0.52.hdf5\n",
            "16/16 [==============================] - 7s 415ms/step - loss: 0.7039 - val_loss: 0.5239\n",
            "Epoch 91/100\n",
            "15/16 [===========================>..] - ETA: 0s - loss: 0.7014\n",
            "Epoch 91: saving model to checkpoints/LSTM_Model_3-91-0.52.hdf5\n",
            "16/16 [==============================] - 7s 429ms/step - loss: 0.7018 - val_loss: 0.5233\n",
            "Epoch 92/100\n",
            "16/16 [==============================] - ETA: 0s - loss: 0.7005\n",
            "Epoch 92: saving model to checkpoints/LSTM_Model_3-92-0.52.hdf5\n",
            "16/16 [==============================] - 7s 425ms/step - loss: 0.7005 - val_loss: 0.5244\n",
            "Epoch 93/100\n",
            "15/16 [===========================>..] - ETA: 0s - loss: 0.7006\n",
            "Epoch 93: saving model to checkpoints/LSTM_Model_3-93-0.52.hdf5\n",
            "16/16 [==============================] - 7s 430ms/step - loss: 0.7008 - val_loss: 0.5200\n",
            "Epoch 94/100\n",
            "16/16 [==============================] - ETA: 0s - loss: 0.7001\n",
            "Epoch 94: saving model to checkpoints/LSTM_Model_3-94-0.52.hdf5\n",
            "16/16 [==============================] - 7s 432ms/step - loss: 0.7001 - val_loss: 0.5211\n",
            "Epoch 95/100\n",
            "16/16 [==============================] - ETA: 0s - loss: 0.6965\n",
            "Epoch 95: saving model to checkpoints/LSTM_Model_3-95-0.52.hdf5\n",
            "16/16 [==============================] - 7s 422ms/step - loss: 0.6965 - val_loss: 0.5219\n",
            "Epoch 96/100\n",
            "16/16 [==============================] - ETA: 0s - loss: 0.6923\n",
            "Epoch 96: saving model to checkpoints/LSTM_Model_3-96-0.52.hdf5\n",
            "16/16 [==============================] - 7s 457ms/step - loss: 0.6923 - val_loss: 0.5171\n",
            "Epoch 97/100\n",
            "16/16 [==============================] - ETA: 0s - loss: 0.6951\n",
            "Epoch 97: saving model to checkpoints/LSTM_Model_3-97-0.52.hdf5\n",
            "16/16 [==============================] - 7s 418ms/step - loss: 0.6951 - val_loss: 0.5170\n",
            "Epoch 98/100\n",
            "16/16 [==============================] - ETA: 0s - loss: 0.6906\n",
            "Epoch 98: saving model to checkpoints/LSTM_Model_3-98-0.52.hdf5\n",
            "16/16 [==============================] - 7s 442ms/step - loss: 0.6906 - val_loss: 0.5153\n",
            "Epoch 99/100\n",
            "16/16 [==============================] - ETA: 0s - loss: 0.6886\n",
            "Epoch 99: saving model to checkpoints/LSTM_Model_3-99-0.52.hdf5\n",
            "16/16 [==============================] - 7s 443ms/step - loss: 0.6886 - val_loss: 0.5165\n",
            "Epoch 100/100\n",
            "16/16 [==============================] - ETA: 0s - loss: 0.6878\n",
            "Epoch 100: saving model to checkpoints/LSTM_Model_3-100-0.52.hdf5\n",
            "16/16 [==============================] - 7s 437ms/step - loss: 0.6878 - val_loss: 0.5150\n"
          ]
        }
      ]
    },
    {
      "cell_type": "code",
      "source": [
        "plt.plot(history_3.history['loss'])\n",
        "plt.plot(history_3.history['val_loss'])\n",
        "plt.title('Loss')\n",
        "plt.ylabel('Loss')\n",
        "plt.xlabel('epoch')\n",
        "plt.legend(['train', 'val'], loc='upper left')\n",
        "plt.show()"
      ],
      "metadata": {
        "colab": {
          "base_uri": "https://localhost:8080/",
          "height": 472
        },
        "id": "Oao2sjPf0pct",
        "outputId": "5f4fc37f-6306-4c00-80dd-a91e95f82c5d"
      },
      "execution_count": null,
      "outputs": [
        {
          "output_type": "display_data",
          "data": {
            "text/plain": [
              "<Figure size 640x480 with 1 Axes>"
            ],
            "image/png": "[encoded data removed]"
          },
          "metadata": {}
        }
      ]
    },
    {
      "cell_type": "code",
      "source": [
        "CONFIG_FILE_GENERATION = 'config.json'\n",
        "config_gen = process_config(CONFIG_FILE_GENERATION)"
      ],
      "metadata": {
        "id": "vfj4kDc-0uvs"
      },
      "execution_count": null,
      "outputs": []
    },
    {
      "cell_type": "code",
      "source": [
        "modeler_generation_3 = Model(config_gen, session='generate')\n",
        "generator_3 = Generator(modeler_generation_3)\n",
        "sampled_smiles_3 = generator_3.sample(num=1000)"
      ],
      "metadata": {
        "colab": {
          "base_uri": "https://localhost:8080/"
        },
        "id": "I7F-fH9a0013",
        "outputId": "e391be0b-740d-497e-ae46-b65538c12937"
      },
      "execution_count": null,
      "outputs": [
        {
          "output_type": "stream",
          "name": "stdout",
          "text": [
            "Loading model architecture from model_arch.json ...\n",
            "Loading model checkpoint from checkpoints/LSTM_Model_3-100-0.52.hdf5 ...\n",
            "Loaded the Model.\n"
          ]
        },
        {
          "output_type": "stream",
          "name": "stderr",
          "text": [
            "100%|██████████| 1000/1000 [05:48<00:00,  2.87it/s]\n"
          ]
        }
      ]
    },
    {
      "cell_type": "code",
      "source": [
        "with open('sampled_smiles_model_3.smi', 'w') as f:\n",
        "  for smi in sampled_smiles_3:\n",
        "    f.write(smi + '\\n')"
      ],
      "metadata": {
        "id": "18zjoVxl0-FN"
      },
      "execution_count": null,
      "outputs": []
    },
    {
      "cell_type": "code",
      "source": [
        "valid_mols = []\n",
        "for smi in sampled_smiles_3:\n",
        "    mol = Chem.MolFromSmiles(smi)\n",
        "    if mol is not None:\n",
        "        valid_mols.append(mol)\n",
        "# low validity\n",
        "print(f'{len(valid_mols) / 1000:.2%}')"
      ],
      "metadata": {
        "colab": {
          "base_uri": "https://localhost:8080/"
        },
        "id": "oi_TLjy01DAi",
        "outputId": "c1d64592-6da0-49d9-8c14-d191a8a61e9a"
      },
      "execution_count": null,
      "outputs": [
        {
          "output_type": "stream",
          "name": "stdout",
          "text": [
            "24.00%\n"
          ]
        }
      ]
    }
  ]
}